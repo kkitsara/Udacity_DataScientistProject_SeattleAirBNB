{
 "cells": [
  {
   "cell_type": "markdown",
   "metadata": {},
   "source": [
    "### Data Scientist Project - Seattle AirBnB Data\n",
    "\n",
    "The purpose of the below code is to perform a data analysis on the Seattle's AirBnb data and answer the below questions\n",
    "\n",
    "##### Question 1: \n",
    "Is the Seattle a seasonal visit attraction?\n",
    "\n",
    "##### Question 2:\n",
    "Are the cancellation policy, the reviews and the neighboorhood correlated with the booking count?\n",
    "\n",
    "##### Question 3:\n",
    "Which are the key indicators of an listing price?"
   ]
  },
  {
   "cell_type": "code",
   "execution_count": 1,
   "metadata": {},
   "outputs": [],
   "source": [
    "#import all the needed libraries\n",
    "import pandas as pd\n",
    "import numpy as np\n",
    "from sklearn.linear_model import LinearRegression\n",
    "from sklearn.model_selection import train_test_split\n",
    "from sklearn.metrics import r2_score, mean_squared_error\n",
    "import matplotlib.pyplot as plt\n",
    "import seaborn as sns\n",
    "import DataScientistProject_Seattle_Functions as t\n",
    "%matplotlib inline"
   ]
  },
  {
   "cell_type": "code",
   "execution_count": 2,
   "metadata": {},
   "outputs": [],
   "source": [
    "#set the width of the column\n",
    "pd.options.display.max_colwidth = 50"
   ]
  },
  {
   "cell_type": "markdown",
   "metadata": {},
   "source": [
    "In order to process the files, i uploaded them in Jupyter notebook under folder AirBNBSeattleData"
   ]
  },
  {
   "cell_type": "code",
   "execution_count": 3,
   "metadata": {
    "scrolled": true
   },
   "outputs": [],
   "source": [
    "#read the CSV files from the folder and store them to pandas dataframes\n",
    "df_calendar = pd.read_csv('./AirBNBSeattleData/calendar.csv')\n",
    "df_listings = pd.read_csv('./AirBNBSeattleData/listings.csv')\n",
    "#df_reviews = pd.read_csv('./AirBNBSeattleData/reviews.csv')"
   ]
  },
  {
   "cell_type": "markdown",
   "metadata": {},
   "source": [
    "First step is to try and understand the available data"
   ]
  },
  {
   "cell_type": "code",
   "execution_count": 4,
   "metadata": {
    "scrolled": false
   },
   "outputs": [
    {
     "data": {
      "text/html": [
       "<div>\n",
       "<style scoped>\n",
       "    .dataframe tbody tr th:only-of-type {\n",
       "        vertical-align: middle;\n",
       "    }\n",
       "\n",
       "    .dataframe tbody tr th {\n",
       "        vertical-align: top;\n",
       "    }\n",
       "\n",
       "    .dataframe thead th {\n",
       "        text-align: right;\n",
       "    }\n",
       "</style>\n",
       "<table border=\"1\" class=\"dataframe\">\n",
       "  <thead>\n",
       "    <tr style=\"text-align: right;\">\n",
       "      <th></th>\n",
       "      <th>listing_id</th>\n",
       "      <th>date</th>\n",
       "      <th>available</th>\n",
       "      <th>price</th>\n",
       "    </tr>\n",
       "  </thead>\n",
       "  <tbody>\n",
       "    <tr>\n",
       "      <th>0</th>\n",
       "      <td>241032</td>\n",
       "      <td>2016-01-04</td>\n",
       "      <td>t</td>\n",
       "      <td>$85.00</td>\n",
       "    </tr>\n",
       "    <tr>\n",
       "      <th>1</th>\n",
       "      <td>241032</td>\n",
       "      <td>2016-01-05</td>\n",
       "      <td>t</td>\n",
       "      <td>$85.00</td>\n",
       "    </tr>\n",
       "    <tr>\n",
       "      <th>2</th>\n",
       "      <td>241032</td>\n",
       "      <td>2016-01-06</td>\n",
       "      <td>f</td>\n",
       "      <td>NaN</td>\n",
       "    </tr>\n",
       "    <tr>\n",
       "      <th>3</th>\n",
       "      <td>241032</td>\n",
       "      <td>2016-01-07</td>\n",
       "      <td>f</td>\n",
       "      <td>NaN</td>\n",
       "    </tr>\n",
       "    <tr>\n",
       "      <th>4</th>\n",
       "      <td>241032</td>\n",
       "      <td>2016-01-08</td>\n",
       "      <td>f</td>\n",
       "      <td>NaN</td>\n",
       "    </tr>\n",
       "  </tbody>\n",
       "</table>\n",
       "</div>"
      ],
      "text/plain": [
       "   listing_id        date available   price\n",
       "0      241032  2016-01-04         t  $85.00\n",
       "1      241032  2016-01-05         t  $85.00\n",
       "2      241032  2016-01-06         f     NaN\n",
       "3      241032  2016-01-07         f     NaN\n",
       "4      241032  2016-01-08         f     NaN"
      ]
     },
     "execution_count": 4,
     "metadata": {},
     "output_type": "execute_result"
    }
   ],
   "source": [
    "#check the calendat df\n",
    "df_calendar.head()"
   ]
  },
  {
   "cell_type": "code",
   "execution_count": 5,
   "metadata": {},
   "outputs": [
    {
     "data": {
      "text/html": [
       "<div>\n",
       "<style scoped>\n",
       "    .dataframe tbody tr th:only-of-type {\n",
       "        vertical-align: middle;\n",
       "    }\n",
       "\n",
       "    .dataframe tbody tr th {\n",
       "        vertical-align: top;\n",
       "    }\n",
       "\n",
       "    .dataframe thead th {\n",
       "        text-align: right;\n",
       "    }\n",
       "</style>\n",
       "<table border=\"1\" class=\"dataframe\">\n",
       "  <thead>\n",
       "    <tr style=\"text-align: right;\">\n",
       "      <th></th>\n",
       "      <th>id</th>\n",
       "      <th>listing_url</th>\n",
       "      <th>scrape_id</th>\n",
       "      <th>last_scraped</th>\n",
       "      <th>name</th>\n",
       "      <th>summary</th>\n",
       "      <th>space</th>\n",
       "      <th>description</th>\n",
       "      <th>experiences_offered</th>\n",
       "      <th>neighborhood_overview</th>\n",
       "      <th>...</th>\n",
       "      <th>review_scores_value</th>\n",
       "      <th>requires_license</th>\n",
       "      <th>license</th>\n",
       "      <th>jurisdiction_names</th>\n",
       "      <th>instant_bookable</th>\n",
       "      <th>cancellation_policy</th>\n",
       "      <th>require_guest_profile_picture</th>\n",
       "      <th>require_guest_phone_verification</th>\n",
       "      <th>calculated_host_listings_count</th>\n",
       "      <th>reviews_per_month</th>\n",
       "    </tr>\n",
       "  </thead>\n",
       "  <tbody>\n",
       "    <tr>\n",
       "      <th>0</th>\n",
       "      <td>241032</td>\n",
       "      <td>https://www.airbnb.com/rooms/241032</td>\n",
       "      <td>20160104002432</td>\n",
       "      <td>2016-01-04</td>\n",
       "      <td>Stylish Queen Anne Apartment</td>\n",
       "      <td>NaN</td>\n",
       "      <td>Make your self at home in this charming one-be...</td>\n",
       "      <td>Make your self at home in this charming one-be...</td>\n",
       "      <td>none</td>\n",
       "      <td>NaN</td>\n",
       "      <td>...</td>\n",
       "      <td>10.0</td>\n",
       "      <td>f</td>\n",
       "      <td>NaN</td>\n",
       "      <td>WASHINGTON</td>\n",
       "      <td>f</td>\n",
       "      <td>moderate</td>\n",
       "      <td>f</td>\n",
       "      <td>f</td>\n",
       "      <td>2</td>\n",
       "      <td>4.07</td>\n",
       "    </tr>\n",
       "    <tr>\n",
       "      <th>1</th>\n",
       "      <td>953595</td>\n",
       "      <td>https://www.airbnb.com/rooms/953595</td>\n",
       "      <td>20160104002432</td>\n",
       "      <td>2016-01-04</td>\n",
       "      <td>Bright &amp; Airy Queen Anne Apartment</td>\n",
       "      <td>Chemically sensitive? We've removed the irrita...</td>\n",
       "      <td>Beautiful, hypoallergenic apartment in an extr...</td>\n",
       "      <td>Chemically sensitive? We've removed the irrita...</td>\n",
       "      <td>none</td>\n",
       "      <td>Queen Anne is a wonderful, truly functional vi...</td>\n",
       "      <td>...</td>\n",
       "      <td>10.0</td>\n",
       "      <td>f</td>\n",
       "      <td>NaN</td>\n",
       "      <td>WASHINGTON</td>\n",
       "      <td>f</td>\n",
       "      <td>strict</td>\n",
       "      <td>t</td>\n",
       "      <td>t</td>\n",
       "      <td>6</td>\n",
       "      <td>1.48</td>\n",
       "    </tr>\n",
       "    <tr>\n",
       "      <th>2</th>\n",
       "      <td>3308979</td>\n",
       "      <td>https://www.airbnb.com/rooms/3308979</td>\n",
       "      <td>20160104002432</td>\n",
       "      <td>2016-01-04</td>\n",
       "      <td>New Modern House-Amazing water view</td>\n",
       "      <td>New modern house built in 2013.  Spectacular s...</td>\n",
       "      <td>Our house is modern, light and fresh with a wa...</td>\n",
       "      <td>New modern house built in 2013.  Spectacular s...</td>\n",
       "      <td>none</td>\n",
       "      <td>Upper Queen Anne is a charming neighborhood fu...</td>\n",
       "      <td>...</td>\n",
       "      <td>10.0</td>\n",
       "      <td>f</td>\n",
       "      <td>NaN</td>\n",
       "      <td>WASHINGTON</td>\n",
       "      <td>f</td>\n",
       "      <td>strict</td>\n",
       "      <td>f</td>\n",
       "      <td>f</td>\n",
       "      <td>2</td>\n",
       "      <td>1.15</td>\n",
       "    </tr>\n",
       "    <tr>\n",
       "      <th>3</th>\n",
       "      <td>7421966</td>\n",
       "      <td>https://www.airbnb.com/rooms/7421966</td>\n",
       "      <td>20160104002432</td>\n",
       "      <td>2016-01-04</td>\n",
       "      <td>Queen Anne Chateau</td>\n",
       "      <td>A charming apartment that sits atop Queen Anne...</td>\n",
       "      <td>NaN</td>\n",
       "      <td>A charming apartment that sits atop Queen Anne...</td>\n",
       "      <td>none</td>\n",
       "      <td>NaN</td>\n",
       "      <td>...</td>\n",
       "      <td>NaN</td>\n",
       "      <td>f</td>\n",
       "      <td>NaN</td>\n",
       "      <td>WASHINGTON</td>\n",
       "      <td>f</td>\n",
       "      <td>flexible</td>\n",
       "      <td>f</td>\n",
       "      <td>f</td>\n",
       "      <td>1</td>\n",
       "      <td>NaN</td>\n",
       "    </tr>\n",
       "    <tr>\n",
       "      <th>4</th>\n",
       "      <td>278830</td>\n",
       "      <td>https://www.airbnb.com/rooms/278830</td>\n",
       "      <td>20160104002432</td>\n",
       "      <td>2016-01-04</td>\n",
       "      <td>Charming craftsman 3 bdm house</td>\n",
       "      <td>Cozy family craftman house in beautiful neighb...</td>\n",
       "      <td>Cozy family craftman house in beautiful neighb...</td>\n",
       "      <td>Cozy family craftman house in beautiful neighb...</td>\n",
       "      <td>none</td>\n",
       "      <td>We are in the beautiful neighborhood of Queen ...</td>\n",
       "      <td>...</td>\n",
       "      <td>9.0</td>\n",
       "      <td>f</td>\n",
       "      <td>NaN</td>\n",
       "      <td>WASHINGTON</td>\n",
       "      <td>f</td>\n",
       "      <td>strict</td>\n",
       "      <td>f</td>\n",
       "      <td>f</td>\n",
       "      <td>1</td>\n",
       "      <td>0.89</td>\n",
       "    </tr>\n",
       "  </tbody>\n",
       "</table>\n",
       "<p>5 rows × 92 columns</p>\n",
       "</div>"
      ],
      "text/plain": [
       "        id                           listing_url       scrape_id last_scraped  \\\n",
       "0   241032   https://www.airbnb.com/rooms/241032  20160104002432   2016-01-04   \n",
       "1   953595   https://www.airbnb.com/rooms/953595  20160104002432   2016-01-04   \n",
       "2  3308979  https://www.airbnb.com/rooms/3308979  20160104002432   2016-01-04   \n",
       "3  7421966  https://www.airbnb.com/rooms/7421966  20160104002432   2016-01-04   \n",
       "4   278830   https://www.airbnb.com/rooms/278830  20160104002432   2016-01-04   \n",
       "\n",
       "                                  name  \\\n",
       "0         Stylish Queen Anne Apartment   \n",
       "1   Bright & Airy Queen Anne Apartment   \n",
       "2  New Modern House-Amazing water view   \n",
       "3                   Queen Anne Chateau   \n",
       "4       Charming craftsman 3 bdm house   \n",
       "\n",
       "                                             summary  \\\n",
       "0                                                NaN   \n",
       "1  Chemically sensitive? We've removed the irrita...   \n",
       "2  New modern house built in 2013.  Spectacular s...   \n",
       "3  A charming apartment that sits atop Queen Anne...   \n",
       "4  Cozy family craftman house in beautiful neighb...   \n",
       "\n",
       "                                               space  \\\n",
       "0  Make your self at home in this charming one-be...   \n",
       "1  Beautiful, hypoallergenic apartment in an extr...   \n",
       "2  Our house is modern, light and fresh with a wa...   \n",
       "3                                                NaN   \n",
       "4  Cozy family craftman house in beautiful neighb...   \n",
       "\n",
       "                                         description experiences_offered  \\\n",
       "0  Make your self at home in this charming one-be...                none   \n",
       "1  Chemically sensitive? We've removed the irrita...                none   \n",
       "2  New modern house built in 2013.  Spectacular s...                none   \n",
       "3  A charming apartment that sits atop Queen Anne...                none   \n",
       "4  Cozy family craftman house in beautiful neighb...                none   \n",
       "\n",
       "                               neighborhood_overview        ...         \\\n",
       "0                                                NaN        ...          \n",
       "1  Queen Anne is a wonderful, truly functional vi...        ...          \n",
       "2  Upper Queen Anne is a charming neighborhood fu...        ...          \n",
       "3                                                NaN        ...          \n",
       "4  We are in the beautiful neighborhood of Queen ...        ...          \n",
       "\n",
       "  review_scores_value requires_license license jurisdiction_names  \\\n",
       "0                10.0                f     NaN         WASHINGTON   \n",
       "1                10.0                f     NaN         WASHINGTON   \n",
       "2                10.0                f     NaN         WASHINGTON   \n",
       "3                 NaN                f     NaN         WASHINGTON   \n",
       "4                 9.0                f     NaN         WASHINGTON   \n",
       "\n",
       "  instant_bookable cancellation_policy  require_guest_profile_picture  \\\n",
       "0                f            moderate                              f   \n",
       "1                f              strict                              t   \n",
       "2                f              strict                              f   \n",
       "3                f            flexible                              f   \n",
       "4                f              strict                              f   \n",
       "\n",
       "  require_guest_phone_verification calculated_host_listings_count  \\\n",
       "0                                f                              2   \n",
       "1                                t                              6   \n",
       "2                                f                              2   \n",
       "3                                f                              1   \n",
       "4                                f                              1   \n",
       "\n",
       "  reviews_per_month  \n",
       "0              4.07  \n",
       "1              1.48  \n",
       "2              1.15  \n",
       "3               NaN  \n",
       "4              0.89  \n",
       "\n",
       "[5 rows x 92 columns]"
      ]
     },
     "execution_count": 5,
     "metadata": {},
     "output_type": "execute_result"
    }
   ],
   "source": [
    "#check the listings df\n",
    "df_listings.head()"
   ]
  },
  {
   "cell_type": "markdown",
   "metadata": {},
   "source": [
    "Check the shape of the datasets"
   ]
  },
  {
   "cell_type": "code",
   "execution_count": 8,
   "metadata": {
    "scrolled": true
   },
   "outputs": [
    {
     "data": {
      "text/plain": [
       "(1393570, 4)"
      ]
     },
     "execution_count": 8,
     "metadata": {},
     "output_type": "execute_result"
    }
   ],
   "source": [
    "df_calendar.shape"
   ]
  },
  {
   "cell_type": "code",
   "execution_count": 9,
   "metadata": {},
   "outputs": [
    {
     "data": {
      "text/plain": [
       "(3818, 92)"
      ]
     },
     "execution_count": 9,
     "metadata": {},
     "output_type": "execute_result"
    }
   ],
   "source": [
    "df_listings.shape"
   ]
  },
  {
   "cell_type": "markdown",
   "metadata": {},
   "source": [
    "##### Question 1: \n",
    "Is the Seattle a seasonal visit attraction?\n",
    "\n",
    "It seems that we are in position to answer the 1st question, as the Calendars data provide a view of the bookings of all the appartments in Seaattle together with the data period.\n",
    "\n",
    "We will process further the dataframe in order to understand it better"
   ]
  },
  {
   "cell_type": "code",
   "execution_count": 10,
   "metadata": {},
   "outputs": [
    {
     "data": {
      "text/html": [
       "<div>\n",
       "<style scoped>\n",
       "    .dataframe tbody tr th:only-of-type {\n",
       "        vertical-align: middle;\n",
       "    }\n",
       "\n",
       "    .dataframe tbody tr th {\n",
       "        vertical-align: top;\n",
       "    }\n",
       "\n",
       "    .dataframe thead th {\n",
       "        text-align: right;\n",
       "    }\n",
       "</style>\n",
       "<table border=\"1\" class=\"dataframe\">\n",
       "  <thead>\n",
       "    <tr style=\"text-align: right;\">\n",
       "      <th></th>\n",
       "      <th>date</th>\n",
       "    </tr>\n",
       "  </thead>\n",
       "  <tbody>\n",
       "    <tr>\n",
       "      <th>max</th>\n",
       "      <td>2017-01-02</td>\n",
       "    </tr>\n",
       "    <tr>\n",
       "      <th>min</th>\n",
       "      <td>2016-01-04</td>\n",
       "    </tr>\n",
       "  </tbody>\n",
       "</table>\n",
       "</div>"
      ],
      "text/plain": [
       "           date\n",
       "max  2017-01-02\n",
       "min  2016-01-04"
      ]
     },
     "execution_count": 10,
     "metadata": {},
     "output_type": "execute_result"
    }
   ],
   "source": [
    "#Get the maximum and minimum dates\n",
    "df_calendar[['date']].agg(['max', 'min'])"
   ]
  },
  {
   "cell_type": "code",
   "execution_count": 11,
   "metadata": {},
   "outputs": [
    {
     "data": {
      "text/plain": [
       "1     114540\n",
       "2     110722\n",
       "3     118358\n",
       "4     114540\n",
       "5     118358\n",
       "6     114540\n",
       "7     118358\n",
       "8     118358\n",
       "9     114540\n",
       "10    118358\n",
       "11    114540\n",
       "12    118358\n",
       "Name: date, dtype: int64"
      ]
     },
     "execution_count": 11,
     "metadata": {},
     "output_type": "execute_result"
    }
   ],
   "source": [
    "#Perform a count aggregation in the date column, to check that we have data for all the months in between\n",
    "pd.DatetimeIndex(df_calendar['date']).month.value_counts().sort_index()"
   ]
  },
  {
   "cell_type": "code",
   "execution_count": 12,
   "metadata": {},
   "outputs": [
    {
     "data": {
      "text/plain": [
       "{'available', 'date', 'listing_id'}"
      ]
     },
     "execution_count": 12,
     "metadata": {},
     "output_type": "execute_result"
    }
   ],
   "source": [
    "set(df_calendar.columns[df_calendar.isnull().mean()==0])"
   ]
  },
  {
   "cell_type": "markdown",
   "metadata": {},
   "source": [
    "From the above analysis it seems that the calendar dataframe:\n",
    "\n",
    "1. Has data for a full year\n",
    "2. Has similar amount of data for all the months\n",
    "3. Has available all the values for the columns we plan to use 'available' and 'date'"
   ]
  },
  {
   "cell_type": "code",
   "execution_count": 13,
   "metadata": {},
   "outputs": [
    {
     "data": {
      "text/html": [
       "<div>\n",
       "<style scoped>\n",
       "    .dataframe tbody tr th:only-of-type {\n",
       "        vertical-align: middle;\n",
       "    }\n",
       "\n",
       "    .dataframe tbody tr th {\n",
       "        vertical-align: top;\n",
       "    }\n",
       "\n",
       "    .dataframe thead th {\n",
       "        text-align: right;\n",
       "    }\n",
       "</style>\n",
       "<table border=\"1\" class=\"dataframe\">\n",
       "  <thead>\n",
       "    <tr style=\"text-align: right;\">\n",
       "      <th></th>\n",
       "      <th>date</th>\n",
       "      <th>Bookings_Count</th>\n",
       "    </tr>\n",
       "  </thead>\n",
       "  <tbody>\n",
       "    <tr>\n",
       "      <th>0</th>\n",
       "      <td>2016-01-04</td>\n",
       "      <td>2083</td>\n",
       "    </tr>\n",
       "    <tr>\n",
       "      <th>1</th>\n",
       "      <td>2016-01-05</td>\n",
       "      <td>1951</td>\n",
       "    </tr>\n",
       "    <tr>\n",
       "      <th>2</th>\n",
       "      <td>2016-01-06</td>\n",
       "      <td>1992</td>\n",
       "    </tr>\n",
       "    <tr>\n",
       "      <th>3</th>\n",
       "      <td>2016-01-07</td>\n",
       "      <td>2042</td>\n",
       "    </tr>\n",
       "    <tr>\n",
       "      <th>4</th>\n",
       "      <td>2016-01-08</td>\n",
       "      <td>2036</td>\n",
       "    </tr>\n",
       "  </tbody>\n",
       "</table>\n",
       "</div>"
      ],
      "text/plain": [
       "         date  Bookings_Count\n",
       "0  2016-01-04            2083\n",
       "1  2016-01-05            1951\n",
       "2  2016-01-06            1992\n",
       "3  2016-01-07            2042\n",
       "4  2016-01-08            2036"
      ]
     },
     "execution_count": 13,
     "metadata": {},
     "output_type": "execute_result"
    }
   ],
   "source": [
    "#Drop the not needed columns and store in a new dataframe\n",
    "bookings_per_month = df_calendar.drop(['listing_id', 'price'], axis=1)\n",
    "#Count the bookings per date\n",
    "bookings_per_month = bookings_per_month[bookings_per_month['available']=='f'].groupby('date').count()\n",
    "#Name the new column as Bookings_Count\n",
    "bookings_per_month = bookings_per_month.reset_index().rename(columns={\"available\": \"Bookings_Count\"})\n",
    "#Check the results\n",
    "bookings_per_month.head()"
   ]
  },
  {
   "cell_type": "code",
   "execution_count": 14,
   "metadata": {},
   "outputs": [
    {
     "data": {
      "text/html": [
       "<div>\n",
       "<style scoped>\n",
       "    .dataframe tbody tr th:only-of-type {\n",
       "        vertical-align: middle;\n",
       "    }\n",
       "\n",
       "    .dataframe tbody tr th {\n",
       "        vertical-align: top;\n",
       "    }\n",
       "\n",
       "    .dataframe thead th {\n",
       "        text-align: right;\n",
       "    }\n",
       "</style>\n",
       "<table border=\"1\" class=\"dataframe\">\n",
       "  <thead>\n",
       "    <tr style=\"text-align: right;\">\n",
       "      <th></th>\n",
       "      <th>month</th>\n",
       "      <th>Bookings_Count</th>\n",
       "    </tr>\n",
       "  </thead>\n",
       "  <tbody>\n",
       "    <tr>\n",
       "      <th>0</th>\n",
       "      <td>1</td>\n",
       "      <td>49603</td>\n",
       "    </tr>\n",
       "    <tr>\n",
       "      <th>1</th>\n",
       "      <td>2</td>\n",
       "      <td>37401</td>\n",
       "    </tr>\n",
       "    <tr>\n",
       "      <th>2</th>\n",
       "      <td>3</td>\n",
       "      <td>34420</td>\n",
       "    </tr>\n",
       "    <tr>\n",
       "      <th>3</th>\n",
       "      <td>4</td>\n",
       "      <td>38503</td>\n",
       "    </tr>\n",
       "    <tr>\n",
       "      <th>4</th>\n",
       "      <td>5</td>\n",
       "      <td>38387</td>\n",
       "    </tr>\n",
       "  </tbody>\n",
       "</table>\n",
       "</div>"
      ],
      "text/plain": [
       "   month  Bookings_Count\n",
       "0      1           49603\n",
       "1      2           37401\n",
       "2      3           34420\n",
       "3      4           38503\n",
       "4      5           38387"
      ]
     },
     "execution_count": 14,
     "metadata": {},
     "output_type": "execute_result"
    }
   ],
   "source": [
    "#Introduce the month column\n",
    "bookings_per_month['month'] = pd.DatetimeIndex(bookings_per_month['date']).month\n",
    "#Drop the date column\n",
    "bookings_per_month = bookings_per_month.drop(['date'], axis=1)\n",
    "#Sum the bookings per month\n",
    "bookings_per_month = bookings_per_month.groupby('month', as_index=False).sum()\n",
    "#bookings_per_month = bookings_per_month.reset_index().rename(columns={\"available\": \"Bookings_Count\"})\n",
    "#Check the results\n",
    "bookings_per_month.head()"
   ]
  },
  {
   "cell_type": "code",
   "execution_count": 15,
   "metadata": {
    "scrolled": true
   },
   "outputs": [
    {
     "data": {
      "text/plain": [
       "(array([ 0,  1,  2,  3,  4,  5,  6,  7,  8,  9, 10, 11]),\n",
       " <a list of 12 Text xticklabel objects>)"
      ]
     },
     "execution_count": 15,
     "metadata": {},
     "output_type": "execute_result"
    },
    {
     "data": {
      "image/png": "[encoded data removed]",
      "text/plain": [
       "<matplotlib.figure.Figure at 0x7f293003a630>"
      ]
     },
     "metadata": {
      "needs_background": "light"
     },
     "output_type": "display_data"
    }
   ],
   "source": [
    "#Plot a barchart with the breakdown per months\n",
    "#Sum per months and use it as index. Store in a plot dataframe\n",
    "plot_df = bookings_per_month.groupby('month', as_index=True).sum()\n",
    "(plot_df).plot(kind=\"bar\");\n",
    "plt.title(\"Bookings Per Month Seattle\");\n",
    "plt.xlabel(\"Month\")\n",
    "plt.ylabel(\"Bookings Seattle\")\n",
    "plt.xticks(rotation=45, horizontalalignment=\"center\")"
   ]
  },
  {
   "cell_type": "markdown",
   "metadata": {},
   "source": [
    "It seems that the January is a high booking month for Seattle, maybe it is related many visitis for NYE vacations or there are some famous events at that period.\n",
    "\n",
    "Other high booking months are the July and August, maybe the good weather is related.\n",
    "\n",
    "It would be interesting to check in Season level also the above breakdown"
   ]
  },
  {
   "cell_type": "code",
   "execution_count": 16,
   "metadata": {},
   "outputs": [
    {
     "data": {
      "text/html": [
       "<div>\n",
       "<style scoped>\n",
       "    .dataframe tbody tr th:only-of-type {\n",
       "        vertical-align: middle;\n",
       "    }\n",
       "\n",
       "    .dataframe tbody tr th {\n",
       "        vertical-align: top;\n",
       "    }\n",
       "\n",
       "    .dataframe thead th {\n",
       "        text-align: right;\n",
       "    }\n",
       "</style>\n",
       "<table border=\"1\" class=\"dataframe\">\n",
       "  <thead>\n",
       "    <tr style=\"text-align: right;\">\n",
       "      <th></th>\n",
       "      <th>month</th>\n",
       "      <th>Bookings_Count</th>\n",
       "      <th>Season</th>\n",
       "    </tr>\n",
       "  </thead>\n",
       "  <tbody>\n",
       "    <tr>\n",
       "      <th>0</th>\n",
       "      <td>1</td>\n",
       "      <td>49603</td>\n",
       "      <td>Winter</td>\n",
       "    </tr>\n",
       "    <tr>\n",
       "      <th>1</th>\n",
       "      <td>2</td>\n",
       "      <td>37401</td>\n",
       "      <td>Winter</td>\n",
       "    </tr>\n",
       "    <tr>\n",
       "      <th>2</th>\n",
       "      <td>3</td>\n",
       "      <td>34420</td>\n",
       "      <td>Spring</td>\n",
       "    </tr>\n",
       "    <tr>\n",
       "      <th>3</th>\n",
       "      <td>4</td>\n",
       "      <td>38503</td>\n",
       "      <td>Spring</td>\n",
       "    </tr>\n",
       "    <tr>\n",
       "      <th>4</th>\n",
       "      <td>5</td>\n",
       "      <td>38387</td>\n",
       "      <td>Spring</td>\n",
       "    </tr>\n",
       "  </tbody>\n",
       "</table>\n",
       "</div>"
      ],
      "text/plain": [
       "   month  Bookings_Count  Season\n",
       "0      1           49603  Winter\n",
       "1      2           37401  Winter\n",
       "2      3           34420  Spring\n",
       "3      4           38503  Spring\n",
       "4      5           38387  Spring"
      ]
     },
     "execution_count": 16,
     "metadata": {},
     "output_type": "execute_result"
    }
   ],
   "source": [
    "#Prepare the condition for the month values to be makred as segments\n",
    "conditions = [\n",
    "    ((bookings_per_month['month']==12)|(bookings_per_month['month']==1)|(bookings_per_month['month']==2)),\n",
    "    ((bookings_per_month['month']==3)|(bookings_per_month['month']==4)|(bookings_per_month['month']==5)),\n",
    "    ((bookings_per_month['month']==6)|(bookings_per_month['month']==7)|(bookings_per_month['month']==8)),\n",
    "    ((bookings_per_month['month']==9)|(bookings_per_month['month']==10)|(bookings_per_month['month']==11))\n",
    "    ]\n",
    "\n",
    "#The different segment values are the 4 seasons\n",
    "values = ['Winter', 'Spring', 'Summer', 'Fall']\n",
    "\n",
    "#Create the Season column\n",
    "bookings_per_month['Season'] = np.select(conditions, values)\n",
    "bookings_per_month.head()"
   ]
  },
  {
   "cell_type": "code",
   "execution_count": 17,
   "metadata": {},
   "outputs": [
    {
     "data": {
      "text/plain": [
       "(array([0, 1, 2, 3]), <a list of 4 Text xticklabel objects>)"
      ]
     },
     "execution_count": 17,
     "metadata": {},
     "output_type": "execute_result"
    },
    {
     "data": {
      "image/png": "[encoded data removed]",
      "text/plain": [
       "<matplotlib.figure.Figure at 0x7f292decb0b8>"
      ]
     },
     "metadata": {
      "needs_background": "light"
     },
     "output_type": "display_data"
    }
   ],
   "source": [
    "#Plot a barchart with the breakdown per season\n",
    "#Drop the month column and store in a plot 2 dataframe\n",
    "plot_df_2 = bookings_per_month.drop(['month'], axis=1)\n",
    "#Sum the bookings per season and use the \n",
    "plot_df_2 = plot_df_2.groupby('Season', as_index=True).sum()\n",
    "(plot_df_2).plot(kind=\"bar\");\n",
    "plt.title(\"Bookings Per Season Seattle\");\n",
    "plt.xlabel(\"Season\")\n",
    "plt.ylabel(\"Bookings Seattle\")\n",
    "plt.xticks(rotation=45, horizontalalignment=\"center\")"
   ]
  },
  {
   "cell_type": "markdown",
   "metadata": {},
   "source": [
    "It seems that the top booking seasons are Summer and Winter. It is maybe related with the people vacation perios"
   ]
  },
  {
   "cell_type": "markdown",
   "metadata": {},
   "source": [
    "It would be interesting to compare these results with another city to see the difference. In the below cells we are reading the Boston AirBnB data and perform the same steps as above for Seattle. \n",
    "\n",
    "I will put all the code together and without comments, in order to run quickly"
   ]
  },
  {
   "cell_type": "code",
   "execution_count": 18,
   "metadata": {},
   "outputs": [
    {
     "data": {
      "text/plain": [
       "(array([ 0,  1,  2,  3,  4,  5,  6,  7,  8,  9, 10, 11]),\n",
       " <a list of 12 Text xticklabel objects>)"
      ]
     },
     "execution_count": 18,
     "metadata": {},
     "output_type": "execute_result"
    },
    {
     "data": {
      "image/png": "[encoded data removed]",
      "text/plain": [
       "<matplotlib.figure.Figure at 0x7f292deb70f0>"
      ]
     },
     "metadata": {
      "needs_background": "light"
     },
     "output_type": "display_data"
    }
   ],
   "source": [
    "#In order to process the files, i uploaded them in Jupyter notebook under folder AirBNBBostonData\n",
    "#read the CSV files from the folder\n",
    "df_calendar_Boston = pd.read_csv('./AirBNBBostonData/calendar.csv')\n",
    "df_listings_Boston = pd.read_csv('./AirBNBBostonData/listings.csv')\n",
    "#df_reviews_Boston = pd.read_csv('./AirBNBBostonData/reviews.csv')\n",
    "\n",
    "#Get the number of rows and columns per dataset\n",
    "df_listings_Boston.shape\n",
    "#3585, 95\n",
    "df_calendar_Boston.shape\n",
    "#1308890, 4\n",
    "\n",
    "#Get the minimum and maximum dates of the calendar dataset\n",
    "df_calendar_Boston[['date']].agg(['max', 'min'])\n",
    "#2016-09-06\n",
    "#2017-09-05\n",
    "\n",
    "#How many columns have no missing values\n",
    "set(df_calendar_Boston.columns[df_calendar_Boston.isnull().mean()==0])\n",
    "#{'available', 'date', 'listing_id'}\n",
    "\n",
    "bookings_per_month_Boston = df_calendar_Boston[df_calendar_Boston['available']=='f'].groupby('date').count()\n",
    "bookings_per_month_Boston = bookings_per_month_Boston.reset_index().rename(columns={\"available\": \"Bookings_Count\"})\n",
    "bookings_per_month_Boston['month'] = pd.DatetimeIndex(bookings_per_month_Boston['date']).month\n",
    "bookings_per_month_Boston = bookings_per_month_Boston.drop(['listing_id', 'price','date'], axis=1)\n",
    "bookings_per_month_Boston = bookings_per_month_Boston.groupby('month', as_index=False).sum()\n",
    "\n",
    "plot_df_Boston = bookings_per_month_Boston.groupby('month', as_index=True).sum()\n",
    "(plot_df_Boston).plot(kind=\"bar\");\n",
    "plt.title(\"Bookings Per Month Boston\");\n",
    "plt.xlabel(\"Month\")\n",
    "plt.ylabel(\"Bookings Boston\")\n",
    "plt.xticks(rotation=45, horizontalalignment=\"center\")"
   ]
  },
  {
   "cell_type": "markdown",
   "metadata": {},
   "source": [
    "It seems that in Boston the high booking months are the September and October. Let's see also on Season level"
   ]
  },
  {
   "cell_type": "code",
   "execution_count": 19,
   "metadata": {
    "scrolled": true
   },
   "outputs": [
    {
     "data": {
      "text/plain": [
       "(array([0, 1, 2, 3]), <a list of 4 Text xticklabel objects>)"
      ]
     },
     "execution_count": 19,
     "metadata": {},
     "output_type": "execute_result"
    },
    {
     "data": {
      "image/png": "[encoded data removed]",
      "text/plain": [
       "<matplotlib.figure.Figure at 0x7f292775e828>"
      ]
     },
     "metadata": {
      "needs_background": "light"
     },
     "output_type": "display_data"
    }
   ],
   "source": [
    "#Prepare the condition for the month values to be makred as segments\n",
    "conditions = [\n",
    "    ((bookings_per_month_Boston['month']==12)|(bookings_per_month_Boston['month']==1)|(bookings_per_month_Boston['month']==2)),\n",
    "    ((bookings_per_month_Boston['month']==3)|(bookings_per_month_Boston['month']==4)|(bookings_per_month_Boston['month']==5)),\n",
    "    ((bookings_per_month_Boston['month']==6)|(bookings_per_month_Boston['month']==7)|(bookings_per_month_Boston['month']==8)),\n",
    "    ((bookings_per_month_Boston['month']==9)|(bookings_per_month_Boston['month']==10)|(bookings_per_month_Boston['month']==11))\n",
    "    ]\n",
    "\n",
    "#The different segment values are the 4 seasons\n",
    "values = ['Winter', 'Spring', 'Summer', 'Fall']\n",
    "\n",
    "#Create the Season column\n",
    "bookings_per_month_Boston['Season'] = np.select(conditions, values)\n",
    "\n",
    "#Plot a barchart with the breakdown per season\n",
    "#Drop the month column and store in a plot 2 dataframe\n",
    "plot_df_2_Boston = bookings_per_month_Boston.drop(['month'], axis=1)\n",
    "#Sum the bookings per season and use the \n",
    "plot_df_2_Boston = plot_df_2_Boston.groupby('Season', as_index=True).sum()\n",
    "(plot_df_2_Boston).plot(kind=\"bar\");\n",
    "plt.title(\"Bookings Per Season Boston\");\n",
    "plt.xlabel(\"Season\")\n",
    "plt.ylabel(\"Bookings Boston\")\n",
    "plt.xticks(rotation=45, horizontalalignment=\"center\")"
   ]
  },
  {
   "cell_type": "markdown",
   "metadata": {},
   "source": [
    "You can see the difference in the distrubition for the two cities. In Boston the high booking season is Fall and the Sprint, it is completely the opposite from Seattle. Boston has more visits during not vacation periods."
   ]
  },
  {
   "cell_type": "markdown",
   "metadata": {},
   "source": [
    "##### Question 2:\n",
    "Are the cancellation policy, the reviews and the neighboorhood correlated with the booking count?\n",
    "\n",
    "In order to answer this question we will need to join the booking count data calculated above with the listing datafram using the ID from listing dataframe and Listing ID from Calendar Dataframe.\n",
    "\n",
    "Then we will do the breakdown for the 3 different attributes (cancellation policy, reviews and neighboorhood)"
   ]
  },
  {
   "cell_type": "code",
   "execution_count": 29,
   "metadata": {},
   "outputs": [
    {
     "data": {
      "text/html": [
       "<div>\n",
       "<style scoped>\n",
       "    .dataframe tbody tr th:only-of-type {\n",
       "        vertical-align: middle;\n",
       "    }\n",
       "\n",
       "    .dataframe tbody tr th {\n",
       "        vertical-align: top;\n",
       "    }\n",
       "\n",
       "    .dataframe thead th {\n",
       "        text-align: right;\n",
       "    }\n",
       "</style>\n",
       "<table border=\"1\" class=\"dataframe\">\n",
       "  <thead>\n",
       "    <tr style=\"text-align: right;\">\n",
       "      <th></th>\n",
       "      <th>listing_id</th>\n",
       "      <th>date</th>\n",
       "      <th>available</th>\n",
       "      <th>price</th>\n",
       "    </tr>\n",
       "  </thead>\n",
       "  <tbody>\n",
       "    <tr>\n",
       "      <th>0</th>\n",
       "      <td>241032</td>\n",
       "      <td>2016-01-04</td>\n",
       "      <td>t</td>\n",
       "      <td>$85.00</td>\n",
       "    </tr>\n",
       "    <tr>\n",
       "      <th>1</th>\n",
       "      <td>241032</td>\n",
       "      <td>2016-01-05</td>\n",
       "      <td>t</td>\n",
       "      <td>$85.00</td>\n",
       "    </tr>\n",
       "    <tr>\n",
       "      <th>2</th>\n",
       "      <td>241032</td>\n",
       "      <td>2016-01-06</td>\n",
       "      <td>f</td>\n",
       "      <td>NaN</td>\n",
       "    </tr>\n",
       "    <tr>\n",
       "      <th>3</th>\n",
       "      <td>241032</td>\n",
       "      <td>2016-01-07</td>\n",
       "      <td>f</td>\n",
       "      <td>NaN</td>\n",
       "    </tr>\n",
       "    <tr>\n",
       "      <th>4</th>\n",
       "      <td>241032</td>\n",
       "      <td>2016-01-08</td>\n",
       "      <td>f</td>\n",
       "      <td>NaN</td>\n",
       "    </tr>\n",
       "  </tbody>\n",
       "</table>\n",
       "</div>"
      ],
      "text/plain": [
       "   listing_id        date available   price\n",
       "0      241032  2016-01-04         t  $85.00\n",
       "1      241032  2016-01-05         t  $85.00\n",
       "2      241032  2016-01-06         f     NaN\n",
       "3      241032  2016-01-07         f     NaN\n",
       "4      241032  2016-01-08         f     NaN"
      ]
     },
     "execution_count": 29,
     "metadata": {},
     "output_type": "execute_result"
    }
   ],
   "source": [
    "df_calendar.head()"
   ]
  },
  {
   "cell_type": "code",
   "execution_count": 20,
   "metadata": {},
   "outputs": [
    {
     "data": {
      "text/html": [
       "<div>\n",
       "<style scoped>\n",
       "    .dataframe tbody tr th:only-of-type {\n",
       "        vertical-align: middle;\n",
       "    }\n",
       "\n",
       "    .dataframe tbody tr th {\n",
       "        vertical-align: top;\n",
       "    }\n",
       "\n",
       "    .dataframe thead th {\n",
       "        text-align: right;\n",
       "    }\n",
       "</style>\n",
       "<table border=\"1\" class=\"dataframe\">\n",
       "  <thead>\n",
       "    <tr style=\"text-align: right;\">\n",
       "      <th></th>\n",
       "      <th>id</th>\n",
       "      <th>listing_url</th>\n",
       "      <th>scrape_id</th>\n",
       "      <th>last_scraped</th>\n",
       "      <th>name</th>\n",
       "      <th>summary</th>\n",
       "      <th>space</th>\n",
       "      <th>description</th>\n",
       "      <th>experiences_offered</th>\n",
       "      <th>neighborhood_overview</th>\n",
       "      <th>...</th>\n",
       "      <th>requires_license</th>\n",
       "      <th>license</th>\n",
       "      <th>jurisdiction_names</th>\n",
       "      <th>instant_bookable</th>\n",
       "      <th>cancellation_policy</th>\n",
       "      <th>require_guest_profile_picture</th>\n",
       "      <th>require_guest_phone_verification</th>\n",
       "      <th>calculated_host_listings_count</th>\n",
       "      <th>reviews_per_month</th>\n",
       "      <th>Bookings_Count</th>\n",
       "    </tr>\n",
       "  </thead>\n",
       "  <tbody>\n",
       "    <tr>\n",
       "      <th>0</th>\n",
       "      <td>241032</td>\n",
       "      <td>https://www.airbnb.com/rooms/241032</td>\n",
       "      <td>20160104002432</td>\n",
       "      <td>2016-01-04</td>\n",
       "      <td>Stylish Queen Anne Apartment</td>\n",
       "      <td>NaN</td>\n",
       "      <td>Make your self at home in this charming one-be...</td>\n",
       "      <td>Make your self at home in this charming one-be...</td>\n",
       "      <td>none</td>\n",
       "      <td>NaN</td>\n",
       "      <td>...</td>\n",
       "      <td>f</td>\n",
       "      <td>NaN</td>\n",
       "      <td>WASHINGTON</td>\n",
       "      <td>f</td>\n",
       "      <td>moderate</td>\n",
       "      <td>f</td>\n",
       "      <td>f</td>\n",
       "      <td>2</td>\n",
       "      <td>4.07</td>\n",
       "      <td>19.0</td>\n",
       "    </tr>\n",
       "    <tr>\n",
       "      <th>1</th>\n",
       "      <td>953595</td>\n",
       "      <td>https://www.airbnb.com/rooms/953595</td>\n",
       "      <td>20160104002432</td>\n",
       "      <td>2016-01-04</td>\n",
       "      <td>Bright &amp; Airy Queen Anne Apartment</td>\n",
       "      <td>Chemically sensitive? We've removed the irrita...</td>\n",
       "      <td>Beautiful, hypoallergenic apartment in an extr...</td>\n",
       "      <td>Chemically sensitive? We've removed the irrita...</td>\n",
       "      <td>none</td>\n",
       "      <td>Queen Anne is a wonderful, truly functional vi...</td>\n",
       "      <td>...</td>\n",
       "      <td>f</td>\n",
       "      <td>NaN</td>\n",
       "      <td>WASHINGTON</td>\n",
       "      <td>f</td>\n",
       "      <td>strict</td>\n",
       "      <td>t</td>\n",
       "      <td>t</td>\n",
       "      <td>6</td>\n",
       "      <td>1.48</td>\n",
       "      <td>74.0</td>\n",
       "    </tr>\n",
       "    <tr>\n",
       "      <th>2</th>\n",
       "      <td>3308979</td>\n",
       "      <td>https://www.airbnb.com/rooms/3308979</td>\n",
       "      <td>20160104002432</td>\n",
       "      <td>2016-01-04</td>\n",
       "      <td>New Modern House-Amazing water view</td>\n",
       "      <td>New modern house built in 2013.  Spectacular s...</td>\n",
       "      <td>Our house is modern, light and fresh with a wa...</td>\n",
       "      <td>New modern house built in 2013.  Spectacular s...</td>\n",
       "      <td>none</td>\n",
       "      <td>Upper Queen Anne is a charming neighborhood fu...</td>\n",
       "      <td>...</td>\n",
       "      <td>f</td>\n",
       "      <td>NaN</td>\n",
       "      <td>WASHINGTON</td>\n",
       "      <td>f</td>\n",
       "      <td>strict</td>\n",
       "      <td>f</td>\n",
       "      <td>f</td>\n",
       "      <td>2</td>\n",
       "      <td>1.15</td>\n",
       "      <td>145.0</td>\n",
       "    </tr>\n",
       "    <tr>\n",
       "      <th>3</th>\n",
       "      <td>7421966</td>\n",
       "      <td>https://www.airbnb.com/rooms/7421966</td>\n",
       "      <td>20160104002432</td>\n",
       "      <td>2016-01-04</td>\n",
       "      <td>Queen Anne Chateau</td>\n",
       "      <td>A charming apartment that sits atop Queen Anne...</td>\n",
       "      <td>NaN</td>\n",
       "      <td>A charming apartment that sits atop Queen Anne...</td>\n",
       "      <td>none</td>\n",
       "      <td>NaN</td>\n",
       "      <td>...</td>\n",
       "      <td>f</td>\n",
       "      <td>NaN</td>\n",
       "      <td>WASHINGTON</td>\n",
       "      <td>f</td>\n",
       "      <td>flexible</td>\n",
       "      <td>f</td>\n",
       "      <td>f</td>\n",
       "      <td>1</td>\n",
       "      <td>NaN</td>\n",
       "      <td>222.0</td>\n",
       "    </tr>\n",
       "    <tr>\n",
       "      <th>4</th>\n",
       "      <td>278830</td>\n",
       "      <td>https://www.airbnb.com/rooms/278830</td>\n",
       "      <td>20160104002432</td>\n",
       "      <td>2016-01-04</td>\n",
       "      <td>Charming craftsman 3 bdm house</td>\n",
       "      <td>Cozy family craftman house in beautiful neighb...</td>\n",
       "      <td>Cozy family craftman house in beautiful neighb...</td>\n",
       "      <td>Cozy family craftman house in beautiful neighb...</td>\n",
       "      <td>none</td>\n",
       "      <td>We are in the beautiful neighborhood of Queen ...</td>\n",
       "      <td>...</td>\n",
       "      <td>f</td>\n",
       "      <td>NaN</td>\n",
       "      <td>WASHINGTON</td>\n",
       "      <td>f</td>\n",
       "      <td>strict</td>\n",
       "      <td>f</td>\n",
       "      <td>f</td>\n",
       "      <td>1</td>\n",
       "      <td>0.89</td>\n",
       "      <td>NaN</td>\n",
       "    </tr>\n",
       "  </tbody>\n",
       "</table>\n",
       "<p>5 rows × 93 columns</p>\n",
       "</div>"
      ],
      "text/plain": [
       "        id                           listing_url       scrape_id last_scraped  \\\n",
       "0   241032   https://www.airbnb.com/rooms/241032  20160104002432   2016-01-04   \n",
       "1   953595   https://www.airbnb.com/rooms/953595  20160104002432   2016-01-04   \n",
       "2  3308979  https://www.airbnb.com/rooms/3308979  20160104002432   2016-01-04   \n",
       "3  7421966  https://www.airbnb.com/rooms/7421966  20160104002432   2016-01-04   \n",
       "4   278830   https://www.airbnb.com/rooms/278830  20160104002432   2016-01-04   \n",
       "\n",
       "                                  name  \\\n",
       "0         Stylish Queen Anne Apartment   \n",
       "1   Bright & Airy Queen Anne Apartment   \n",
       "2  New Modern House-Amazing water view   \n",
       "3                   Queen Anne Chateau   \n",
       "4       Charming craftsman 3 bdm house   \n",
       "\n",
       "                                             summary  \\\n",
       "0                                                NaN   \n",
       "1  Chemically sensitive? We've removed the irrita...   \n",
       "2  New modern house built in 2013.  Spectacular s...   \n",
       "3  A charming apartment that sits atop Queen Anne...   \n",
       "4  Cozy family craftman house in beautiful neighb...   \n",
       "\n",
       "                                               space  \\\n",
       "0  Make your self at home in this charming one-be...   \n",
       "1  Beautiful, hypoallergenic apartment in an extr...   \n",
       "2  Our house is modern, light and fresh with a wa...   \n",
       "3                                                NaN   \n",
       "4  Cozy family craftman house in beautiful neighb...   \n",
       "\n",
       "                                         description experiences_offered  \\\n",
       "0  Make your self at home in this charming one-be...                none   \n",
       "1  Chemically sensitive? We've removed the irrita...                none   \n",
       "2  New modern house built in 2013.  Spectacular s...                none   \n",
       "3  A charming apartment that sits atop Queen Anne...                none   \n",
       "4  Cozy family craftman house in beautiful neighb...                none   \n",
       "\n",
       "                               neighborhood_overview      ...        \\\n",
       "0                                                NaN      ...         \n",
       "1  Queen Anne is a wonderful, truly functional vi...      ...         \n",
       "2  Upper Queen Anne is a charming neighborhood fu...      ...         \n",
       "3                                                NaN      ...         \n",
       "4  We are in the beautiful neighborhood of Queen ...      ...         \n",
       "\n",
       "  requires_license license jurisdiction_names instant_bookable  \\\n",
       "0                f     NaN         WASHINGTON                f   \n",
       "1                f     NaN         WASHINGTON                f   \n",
       "2                f     NaN         WASHINGTON                f   \n",
       "3                f     NaN         WASHINGTON                f   \n",
       "4                f     NaN         WASHINGTON                f   \n",
       "\n",
       "  cancellation_policy require_guest_profile_picture  \\\n",
       "0            moderate                             f   \n",
       "1              strict                             t   \n",
       "2              strict                             f   \n",
       "3            flexible                             f   \n",
       "4              strict                             f   \n",
       "\n",
       "   require_guest_phone_verification calculated_host_listings_count  \\\n",
       "0                                 f                              2   \n",
       "1                                 t                              6   \n",
       "2                                 f                              2   \n",
       "3                                 f                              1   \n",
       "4                                 f                              1   \n",
       "\n",
       "  reviews_per_month Bookings_Count  \n",
       "0              4.07           19.0  \n",
       "1              1.48           74.0  \n",
       "2              1.15          145.0  \n",
       "3               NaN          222.0  \n",
       "4              0.89            NaN  \n",
       "\n",
       "[5 rows x 93 columns]"
      ]
     },
     "execution_count": 20,
     "metadata": {},
     "output_type": "execute_result"
    }
   ],
   "source": [
    "#Drop the not needed columns and store on a new dataframe\n",
    "bookings_per_listing = df_calendar.drop(['date', 'price'], axis=1)\n",
    "#Calculate bookings count for each listing\n",
    "bookings_per_listing = bookings_per_listing[df_calendar['available']=='f'].groupby('listing_id').count()\n",
    "#Create the new column named \n",
    "bookings_per_listing = bookings_per_listing.reset_index().rename(columns={\"available\": \"Bookings_Count\"})\n",
    "#Left join the Bookings_Count column with the df_listings dataframe using the correlation listing_id and id\n",
    "df_listings = df_listings.join(bookings_per_listing.set_index('listing_id'), on='id', how='left')\n",
    "df_listings.head()"
   ]
  },
  {
   "cell_type": "code",
   "execution_count": 21,
   "metadata": {},
   "outputs": [
    {
     "data": {
      "text/plain": [
       "(3818, 93)"
      ]
     },
     "execution_count": 21,
     "metadata": {},
     "output_type": "execute_result"
    }
   ],
   "source": [
    "#Verify that the shape of df_listings is increase by one column and we did not lose any rows\n",
    "df_listings.shape"
   ]
  },
  {
   "cell_type": "markdown",
   "metadata": {},
   "source": [
    "Now we are ready to check the correlation between booking counts and cancellation policy"
   ]
  },
  {
   "cell_type": "code",
   "execution_count": 22,
   "metadata": {},
   "outputs": [
    {
     "data": {
      "text/plain": [
       "0.0"
      ]
     },
     "execution_count": 22,
     "metadata": {},
     "output_type": "execute_result"
    }
   ],
   "source": [
    "#Check how many null values we have\n",
    "df_listings['cancellation_policy'].isnull().mean()"
   ]
  },
  {
   "cell_type": "code",
   "execution_count": 23,
   "metadata": {},
   "outputs": [
    {
     "data": {
      "text/plain": [
       "strict      1417\n",
       "moderate    1251\n",
       "flexible    1150\n",
       "Name: cancellation_policy, dtype: int64"
      ]
     },
     "execution_count": 23,
     "metadata": {},
     "output_type": "execute_result"
    }
   ],
   "source": [
    "#Breakdown of the different cancellation policies\n",
    "df_listings['cancellation_policy'].value_counts()"
   ]
  },
  {
   "cell_type": "code",
   "execution_count": 24,
   "metadata": {},
   "outputs": [
    {
     "data": {
      "text/plain": [
       "cancellation_policy\n",
       "flexible    144427.0\n",
       "moderate    156800.0\n",
       "strict      157801.0\n",
       "Name: Bookings_Count, dtype: float64"
      ]
     },
     "execution_count": 24,
     "metadata": {},
     "output_type": "execute_result"
    }
   ],
   "source": [
    "#Early bookings count per cancellation policy\n",
    "df_listings.groupby('cancellation_policy')['Bookings_Count'].sum()"
   ]
  },
  {
   "cell_type": "markdown",
   "metadata": {},
   "source": [
    "In order to check the correlation of the 2 attributes, we will need to normalize the results.\n",
    "Hence we will perofrm the division of the total bookings counts with the amount of the listings per cancellaion policy type"
   ]
  },
  {
   "cell_type": "code",
   "execution_count": 25,
   "metadata": {},
   "outputs": [
    {
     "data": {
      "text/plain": [
       "flexible    125.588696\n",
       "moderate    125.339728\n",
       "strict      111.362738\n",
       "dtype: float64"
      ]
     },
     "execution_count": 25,
     "metadata": {},
     "output_type": "execute_result"
    }
   ],
   "source": [
    "#Calculate the average booking counts per apparment on each cancellation policy and store on a new df\n",
    "bookings_per_appartment_per_cancellation = df_listings.groupby('cancellation_policy')['Bookings_Count'].sum()/df_listings['cancellation_policy'].value_counts()\n",
    "bookings_per_appartment_per_cancellation.head()"
   ]
  },
  {
   "cell_type": "code",
   "execution_count": 26,
   "metadata": {
    "scrolled": true
   },
   "outputs": [
    {
     "data": {
      "text/plain": [
       "(array([0, 1, 2]), <a list of 3 Text xticklabel objects>)"
      ]
     },
     "execution_count": 26,
     "metadata": {},
     "output_type": "execute_result"
    },
    {
     "data": {
      "image/png": "[encoded data removed]",
      "text/plain": [
       "<matplotlib.figure.Figure at 0x7f296873a4e0>"
      ]
     },
     "metadata": {
      "needs_background": "light"
     },
     "output_type": "display_data"
    }
   ],
   "source": [
    "#Plot the results\n",
    "(bookings_per_appartment_per_cancellation).plot(kind=\"bar\");\n",
    "plt.title(\"Booking Rate per Cancellation Policy Seattle\");\n",
    "plt.xlabel(\"Cancellation Policy\")\n",
    "plt.ylabel(\"Avg Bookings per Listing\")\n",
    "plt.xticks(rotation=45, horizontalalignment=\"center\")"
   ]
  },
  {
   "cell_type": "markdown",
   "metadata": {},
   "source": [
    "We can see that the sctrict cancellation policy has the lower average while the flexible the highest"
   ]
  },
  {
   "cell_type": "markdown",
   "metadata": {},
   "source": [
    "Now we are ready to check the correlation between booking counts and Review Rates"
   ]
  },
  {
   "cell_type": "code",
   "execution_count": 27,
   "metadata": {
    "scrolled": true
   },
   "outputs": [
    {
     "data": {
      "text/plain": [
       "0.17181770560502882"
      ]
     },
     "execution_count": 27,
     "metadata": {},
     "output_type": "execute_result"
    }
   ],
   "source": [
    "#Check how many null values we have\n",
    "df_listings['review_scores_value'].isnull().mean()"
   ]
  },
  {
   "cell_type": "code",
   "execution_count": 28,
   "metadata": {},
   "outputs": [
    {
     "data": {
      "text/plain": [
       "656"
      ]
     },
     "execution_count": 28,
     "metadata": {},
     "output_type": "execute_result"
    }
   ],
   "source": [
    "#Check how many null values we have\n",
    "df_listings['review_scores_value'].isnull().sum()"
   ]
  },
  {
   "cell_type": "code",
   "execution_count": 29,
   "metadata": {},
   "outputs": [
    {
     "data": {
      "text/plain": [
       "2.0        1\n",
       "4.0        4\n",
       "5.0        1\n",
       "6.0       16\n",
       "7.0       38\n",
       "8.0      190\n",
       "9.0     1137\n",
       "10.0    1775\n",
       "Name: review_scores_value, dtype: int64"
      ]
     },
     "execution_count": 29,
     "metadata": {},
     "output_type": "execute_result"
    }
   ],
   "source": [
    "df_listings['review_scores_value'].value_counts().sort_index()"
   ]
  },
  {
   "cell_type": "markdown",
   "metadata": {},
   "source": [
    "As we have 17% not available review scores, we should either remove the rows or replace the null values. \n",
    "\n",
    "Because there is a big distribution towards high scores, i will go with the remove option."
   ]
  },
  {
   "cell_type": "code",
   "execution_count": 30,
   "metadata": {},
   "outputs": [
    {
     "data": {
      "text/plain": [
       "2.0        1\n",
       "4.0        4\n",
       "5.0        1\n",
       "6.0       16\n",
       "7.0       38\n",
       "8.0      190\n",
       "9.0     1137\n",
       "10.0    1775\n",
       "Name: review_scores_value, dtype: int64"
      ]
     },
     "execution_count": 30,
     "metadata": {},
     "output_type": "execute_result"
    }
   ],
   "source": [
    "#Create a new df from listings df\n",
    "bookings_per_review_score = df_listings[['Bookings_Count','review_scores_value']]\n",
    "bookings_per_review_score = bookings_per_review_score.dropna(subset=['review_scores_value'], axis=0)\n",
    "bookings_per_review_score['review_scores_value'].value_counts().sort_index()"
   ]
  },
  {
   "cell_type": "code",
   "execution_count": 31,
   "metadata": {},
   "outputs": [
    {
     "data": {
      "text/plain": [
       "review_scores_value\n",
       "2.0        308.0\n",
       "4.0        707.0\n",
       "5.0         95.0\n",
       "6.0       1681.0\n",
       "7.0       4429.0\n",
       "8.0      19004.0\n",
       "9.0     115800.0\n",
       "10.0    223678.0\n",
       "Name: Bookings_Count, dtype: float64"
      ]
     },
     "execution_count": 31,
     "metadata": {},
     "output_type": "execute_result"
    }
   ],
   "source": [
    "#Check the total bookings per review rate\n",
    "bookings_per_review_score.groupby('review_scores_value')['Bookings_Count'].sum()"
   ]
  },
  {
   "cell_type": "markdown",
   "metadata": {},
   "source": [
    "We can see that the high score reviews (9,10) have too many bookings. For this reason we will use segmentations instead of the real values"
   ]
  },
  {
   "cell_type": "code",
   "execution_count": 32,
   "metadata": {},
   "outputs": [
    {
     "data": {
      "text/html": [
       "<div>\n",
       "<style scoped>\n",
       "    .dataframe tbody tr th:only-of-type {\n",
       "        vertical-align: middle;\n",
       "    }\n",
       "\n",
       "    .dataframe tbody tr th {\n",
       "        vertical-align: top;\n",
       "    }\n",
       "\n",
       "    .dataframe thead th {\n",
       "        text-align: right;\n",
       "    }\n",
       "</style>\n",
       "<table border=\"1\" class=\"dataframe\">\n",
       "  <thead>\n",
       "    <tr style=\"text-align: right;\">\n",
       "      <th></th>\n",
       "      <th>Bookings_Count</th>\n",
       "      <th>review_scores_value</th>\n",
       "      <th>review_scores_segments</th>\n",
       "    </tr>\n",
       "  </thead>\n",
       "  <tbody>\n",
       "    <tr>\n",
       "      <th>0</th>\n",
       "      <td>19.0</td>\n",
       "      <td>10.0</td>\n",
       "      <td>10</td>\n",
       "    </tr>\n",
       "    <tr>\n",
       "      <th>1</th>\n",
       "      <td>74.0</td>\n",
       "      <td>10.0</td>\n",
       "      <td>10</td>\n",
       "    </tr>\n",
       "    <tr>\n",
       "      <th>2</th>\n",
       "      <td>145.0</td>\n",
       "      <td>10.0</td>\n",
       "      <td>10</td>\n",
       "    </tr>\n",
       "    <tr>\n",
       "      <th>4</th>\n",
       "      <td>NaN</td>\n",
       "      <td>9.0</td>\n",
       "      <td>9</td>\n",
       "    </tr>\n",
       "    <tr>\n",
       "      <th>5</th>\n",
       "      <td>63.0</td>\n",
       "      <td>10.0</td>\n",
       "      <td>10</td>\n",
       "    </tr>\n",
       "  </tbody>\n",
       "</table>\n",
       "</div>"
      ],
      "text/plain": [
       "   Bookings_Count  review_scores_value review_scores_segments\n",
       "0            19.0                 10.0                     10\n",
       "1            74.0                 10.0                     10\n",
       "2           145.0                 10.0                     10\n",
       "4             NaN                  9.0                      9\n",
       "5            63.0                 10.0                     10"
      ]
     },
     "execution_count": 32,
     "metadata": {},
     "output_type": "execute_result"
    }
   ],
   "source": [
    "#Set the segments\n",
    "conditions = [\n",
    "    (bookings_per_review_score['review_scores_value']<=8),\n",
    "    (bookings_per_review_score['review_scores_value']==9),\n",
    "    (bookings_per_review_score['review_scores_value']==10)\n",
    "    ]\n",
    "\n",
    "values = ['<=8', '9', '10']\n",
    "\n",
    "#Create a new column named review_scores_segments as per the above conditions\n",
    "bookings_per_review_score['review_scores_segments'] = np.select(conditions, values)\n",
    "bookings_per_review_score.head()"
   ]
  },
  {
   "cell_type": "markdown",
   "metadata": {},
   "source": [
    "Again the correlation will be calculated with normalized results"
   ]
  },
  {
   "cell_type": "code",
   "execution_count": 33,
   "metadata": {},
   "outputs": [
    {
     "data": {
      "text/plain": [
       "review_scores_segments\n",
       "10     126.015775\n",
       "9      101.846966\n",
       "<=8    104.896000\n",
       "dtype: float64"
      ]
     },
     "execution_count": 33,
     "metadata": {},
     "output_type": "execute_result"
    }
   ],
   "source": [
    "bookings_per_review_score = bookings_per_review_score.groupby('review_scores_segments')['Bookings_Count'].sum()/bookings_per_review_score['review_scores_segments'].value_counts()\n",
    "bookings_per_review_score.head()"
   ]
  },
  {
   "cell_type": "code",
   "execution_count": 34,
   "metadata": {
    "scrolled": true
   },
   "outputs": [
    {
     "data": {
      "text/plain": [
       "(array([0, 1, 2]), <a list of 3 Text xticklabel objects>)"
      ]
     },
     "execution_count": 34,
     "metadata": {},
     "output_type": "execute_result"
    },
    {
     "data": {
      "image/png": "[encoded data removed]",
      "text/plain": [
       "<matplotlib.figure.Figure at 0x7f29646b3ac8>"
      ]
     },
     "metadata": {
      "needs_background": "light"
     },
     "output_type": "display_data"
    }
   ],
   "source": [
    "(bookings_per_review_score).plot(kind=\"bar\");\n",
    "plt.title(\"Booking Rate per Review Rate Seattle\");\n",
    "plt.xlabel(\"Review Rate\")\n",
    "plt.ylabel(\"Avg Bookings per Listing\")\n",
    "plt.xticks(rotation=45, horizontalalignment=\"center\")"
   ]
  },
  {
   "cell_type": "markdown",
   "metadata": {},
   "source": [
    "The review rates 10 have higher booking counts as expected.\n",
    "Though, it is strange as it seems that the review rates with '<=8' or lower have greater booking counts than 9. Maybe there are other factors that are more important or maybe the data amount for the segment '<=8' are not enough to have a proper answer."
   ]
  },
  {
   "cell_type": "markdown",
   "metadata": {},
   "source": [
    "Now we can go and check the correlation between booking count and neighbourhood"
   ]
  },
  {
   "cell_type": "code",
   "execution_count": 35,
   "metadata": {},
   "outputs": [
    {
     "data": {
      "text/html": [
       "<div>\n",
       "<style scoped>\n",
       "    .dataframe tbody tr th:only-of-type {\n",
       "        vertical-align: middle;\n",
       "    }\n",
       "\n",
       "    .dataframe tbody tr th {\n",
       "        vertical-align: top;\n",
       "    }\n",
       "\n",
       "    .dataframe thead th {\n",
       "        text-align: right;\n",
       "    }\n",
       "</style>\n",
       "<table border=\"1\" class=\"dataframe\">\n",
       "  <thead>\n",
       "    <tr style=\"text-align: right;\">\n",
       "      <th></th>\n",
       "      <th>Bookings_Count</th>\n",
       "      <th>neighbourhood_group_cleansed</th>\n",
       "    </tr>\n",
       "  </thead>\n",
       "  <tbody>\n",
       "    <tr>\n",
       "      <th>0</th>\n",
       "      <td>19.0</td>\n",
       "      <td>Queen Anne</td>\n",
       "    </tr>\n",
       "    <tr>\n",
       "      <th>1</th>\n",
       "      <td>74.0</td>\n",
       "      <td>Queen Anne</td>\n",
       "    </tr>\n",
       "    <tr>\n",
       "      <th>2</th>\n",
       "      <td>145.0</td>\n",
       "      <td>Queen Anne</td>\n",
       "    </tr>\n",
       "    <tr>\n",
       "      <th>3</th>\n",
       "      <td>222.0</td>\n",
       "      <td>Queen Anne</td>\n",
       "    </tr>\n",
       "    <tr>\n",
       "      <th>4</th>\n",
       "      <td>NaN</td>\n",
       "      <td>Queen Anne</td>\n",
       "    </tr>\n",
       "  </tbody>\n",
       "</table>\n",
       "</div>"
      ],
      "text/plain": [
       "   Bookings_Count neighbourhood_group_cleansed\n",
       "0            19.0                   Queen Anne\n",
       "1            74.0                   Queen Anne\n",
       "2           145.0                   Queen Anne\n",
       "3           222.0                   Queen Anne\n",
       "4             NaN                   Queen Anne"
      ]
     },
     "execution_count": 35,
     "metadata": {},
     "output_type": "execute_result"
    }
   ],
   "source": [
    "#Pick columns Bookings_Count and neighbourhood_group_cleansed and store on a new dataframe\n",
    "bookings_per_neighbourhood = df_listings[['Bookings_Count','neighbourhood_group_cleansed']]\n",
    "bookings_per_neighbourhood.head()"
   ]
  },
  {
   "cell_type": "code",
   "execution_count": 36,
   "metadata": {},
   "outputs": [
    {
     "data": {
      "text/plain": [
       "0.0"
      ]
     },
     "execution_count": 36,
     "metadata": {},
     "output_type": "execute_result"
    }
   ],
   "source": [
    "#Check how many null values we have\n",
    "bookings_per_neighbourhood['neighbourhood_group_cleansed'].isnull().mean()"
   ]
  },
  {
   "cell_type": "code",
   "execution_count": 37,
   "metadata": {},
   "outputs": [
    {
     "data": {
      "text/plain": [
       "Ballard                230\n",
       "Beacon Hill            118\n",
       "Capitol Hill           567\n",
       "Cascade                 89\n",
       "Central Area           369\n",
       "Delridge                79\n",
       "Downtown               530\n",
       "Interbay                11\n",
       "Lake City               67\n",
       "Magnolia                61\n",
       "Northgate               80\n",
       "Other neighborhoods    794\n",
       "Queen Anne             295\n",
       "Rainier Valley         159\n",
       "Seward Park             44\n",
       "University District    122\n",
       "West Seattle           203\n",
       "Name: neighbourhood_group_cleansed, dtype: int64"
      ]
     },
     "execution_count": 37,
     "metadata": {},
     "output_type": "execute_result"
    }
   ],
   "source": [
    "#Check the count of listings per neighbourhood group\n",
    "bookings_per_neighbourhood['neighbourhood_group_cleansed'].value_counts().sort_index()"
   ]
  },
  {
   "cell_type": "code",
   "execution_count": 38,
   "metadata": {
    "scrolled": true
   },
   "outputs": [
    {
     "data": {
      "text/plain": [
       "neighbourhood_group_cleansed\n",
       "Ballard                25835.0\n",
       "Beacon Hill            12800.0\n",
       "Capitol Hill           74287.0\n",
       "Cascade                13768.0\n",
       "Central Area           44129.0\n",
       "Delridge                7290.0\n",
       "Downtown               67725.0\n",
       "Interbay                 621.0\n",
       "Lake City               5654.0\n",
       "Magnolia                5017.0\n",
       "Northgate               8095.0\n",
       "Other neighborhoods    95149.0\n",
       "Queen Anne             40871.0\n",
       "Rainier Valley         19121.0\n",
       "Seward Park             5139.0\n",
       "University District    11382.0\n",
       "West Seattle           22145.0\n",
       "Name: Bookings_Count, dtype: float64"
      ]
     },
     "execution_count": 38,
     "metadata": {},
     "output_type": "execute_result"
    }
   ],
   "source": [
    "#Check the amount of bookings per neighbourhood group\n",
    "bookings_per_neighbourhood.groupby('neighbourhood_group_cleansed')['Bookings_Count'].sum()"
   ]
  },
  {
   "cell_type": "markdown",
   "metadata": {},
   "source": [
    "We will proceed with normalization of the data"
   ]
  },
  {
   "cell_type": "code",
   "execution_count": 39,
   "metadata": {
    "scrolled": true
   },
   "outputs": [
    {
     "data": {
      "text/plain": [
       "(array([ 0,  1,  2,  3,  4,  5,  6,  7,  8,  9, 10, 11, 12, 13, 14, 15, 16]),\n",
       " <a list of 17 Text xticklabel objects>)"
      ]
     },
     "execution_count": 39,
     "metadata": {},
     "output_type": "execute_result"
    },
    {
     "data": {
      "image/png": "[encoded data removed]",
      "text/plain": [
       "<matplotlib.figure.Figure at 0x7f2926f52630>"
      ]
     },
     "metadata": {
      "needs_background": "light"
     },
     "output_type": "display_data"
    }
   ],
   "source": [
    "#Normalize the data per appartment\n",
    "norm_bookings_per_neighbourhood = bookings_per_neighbourhood.groupby('neighbourhood_group_cleansed')['Bookings_Count'].sum()/bookings_per_neighbourhood['neighbourhood_group_cleansed'].value_counts()\n",
    "\n",
    "#Sort the results based on the amount of booking rate\n",
    "norm_bookings_per_neighbourhood = norm_bookings_per_neighbourhood.sort_values(axis=0, ascending=False)\n",
    "\n",
    "#Plot the results\n",
    "(norm_bookings_per_neighbourhood).plot(kind=\"bar\");\n",
    "plt.title(\"Booking Rate per NeighBourHood Group Seattle\");\n",
    "plt.xlabel(\"NeighBourHood Group\")\n",
    "plt.ylabel(\"Avg Bookings per Listing\")\n",
    "plt.xticks(rotation=65, horizontalalignment=\"center\")"
   ]
  },
  {
   "cell_type": "markdown",
   "metadata": {},
   "source": [
    "You can see that there are some specific neighbourhood groups much more popular than others"
   ]
  },
  {
   "cell_type": "markdown",
   "metadata": {},
   "source": [
    "##### Question 3:\n",
    "Which are the key indicators of an appartment price?"
   ]
  },
  {
   "cell_type": "code",
   "execution_count": 46,
   "metadata": {},
   "outputs": [
    {
     "data": {
      "text/plain": [
       "(3818, 92)"
      ]
     },
     "execution_count": 46,
     "metadata": {},
     "output_type": "execute_result"
    }
   ],
   "source": [
    "#Store listings dataframe to a new df\n",
    "df_listings_model = df_listings\n",
    "#Drop the Booking_Count column from the new df\n",
    "df_listings_model = df_listings_model.drop(['Bookings_Count'], axis=1)\n",
    "#Check the shape\n",
    "df_listings_model.shape"
   ]
  },
  {
   "cell_type": "markdown",
   "metadata": {},
   "source": [
    "In order to answer the above question we will build a linear regression model and we will try to predict the price of each listing based on its characteristics"
   ]
  },
  {
   "cell_type": "markdown",
   "metadata": {},
   "source": [
    "I will create a function which will be able to exclude the fields with big or low variance"
   ]
  },
  {
   "cell_type": "code",
   "execution_count": 50,
   "metadata": {},
   "outputs": [],
   "source": [
    "#Function to isolate columns with very big or very small variance (>=1000 or <=2)\n",
    "def find_proper_columns (df,min_var,max_var):\n",
    "    exclude_columns = []\n",
    "    for i in df.columns:\n",
    "        if ((df[i].value_counts().count()>=max_var)|(df[i].value_counts().count()<=min_var)):\n",
    "            exclude_columns.append(i)\n",
    "    find_proper_columns.exclude_columns = exclude_columns "
   ]
  },
  {
   "cell_type": "markdown",
   "metadata": {},
   "source": [
    "I will run the function by setting the relevant minimum and maximum values"
   ]
  },
  {
   "cell_type": "code",
   "execution_count": 51,
   "metadata": {},
   "outputs": [
    {
     "data": {
      "text/plain": [
       "['id', 'listing_url', 'scrape_id', 'last_scraped', 'name']"
      ]
     },
     "execution_count": 51,
     "metadata": {},
     "output_type": "execute_result"
    }
   ],
   "source": [
    "#Run the function using the listings dataframe\n",
    "find_proper_columns(df_listings_model,2,1000)\n",
    "find_proper_columns.exclude_columns[:5]"
   ]
  },
  {
   "cell_type": "code",
   "execution_count": 52,
   "metadata": {
    "scrolled": true
   },
   "outputs": [
    {
     "data": {
      "text/plain": [
       "44"
      ]
     },
     "execution_count": 52,
     "metadata": {},
     "output_type": "execute_result"
    }
   ],
   "source": [
    "len(find_proper_columns.exclude_columns)"
   ]
  },
  {
   "cell_type": "markdown",
   "metadata": {},
   "source": [
    "Exclude the columns that have more than 30% null values"
   ]
  },
  {
   "cell_type": "code",
   "execution_count": 53,
   "metadata": {},
   "outputs": [
    {
     "data": {
      "text/plain": [
       "['monthly_price', 'notes', 'license', 'security_deposit', 'weekly_price']"
      ]
     },
     "execution_count": 53,
     "metadata": {},
     "output_type": "execute_result"
    }
   ],
   "source": [
    "#Find columns with more than 30% null values\n",
    "exclude_mean = list(set(df_listings_model.columns[df_listings_model.isnull().mean()>0.30]))\n",
    "exclude_mean[:5]"
   ]
  },
  {
   "cell_type": "code",
   "execution_count": 54,
   "metadata": {},
   "outputs": [
    {
     "data": {
      "text/plain": [
       "6"
      ]
     },
     "execution_count": 54,
     "metadata": {},
     "output_type": "execute_result"
    }
   ],
   "source": [
    "len(exclude_mean)"
   ]
  },
  {
   "cell_type": "markdown",
   "metadata": {},
   "source": [
    "Create 2 functions that do the below:\n",
    "\n",
    "    1. Transform a list of columns from string to numeric\n",
    "    2. Transform a list of columns from sting dates to numeric values with the logic now() - date"
   ]
  },
  {
   "cell_type": "code",
   "execution_count": 55,
   "metadata": {},
   "outputs": [],
   "source": [
    "#the function to remove non-numeric chars from numeric columns\n",
    "def str_to_numeric(df,str_to_numeric_list):\n",
    "    for i in str_to_numeric_list:\n",
    "        df[i] = df[i].str.replace(',', '')\n",
    "        df[i] = df[i].str.replace('$', '')\n",
    "        df[i] = df[i].str.replace('%', '')\n",
    "        df[i] = df[i].astype(float)\n",
    "\n",
    "#the function to convert date values to days until today (numeric)\n",
    "def date_to_days(df,date_to_days_list):\n",
    "    for i in date_to_days_list:\n",
    "        df[i] = pd.to_datetime(df[i])\n",
    "        df[i]  = (pd.Timestamp.now().normalize() - df[i]).dt.days"
   ]
  },
  {
   "cell_type": "markdown",
   "metadata": {},
   "source": [
    "Run the above functions by setting the columns of our interest"
   ]
  },
  {
   "cell_type": "code",
   "execution_count": 56,
   "metadata": {},
   "outputs": [],
   "source": [
    "#Convert the below list to numbers\n",
    "str_to_numeric_list = ['price','weekly_price','monthly_price','security_deposit','cleaning_fee','extra_people','host_response_rate']\n",
    "str_to_numeric(df_listings_model,str_to_numeric_list)\n",
    "\n",
    "#Convert the below list to days until today\n",
    "date_to_days_list = ['first_review','last_review','host_since']\n",
    "date_to_days(df_listings_model,date_to_days_list)"
   ]
  },
  {
   "cell_type": "markdown",
   "metadata": {},
   "source": [
    "Create a function that will clean the dataset and run the linear regression model"
   ]
  },
  {
   "cell_type": "code",
   "execution_count": 57,
   "metadata": {},
   "outputs": [],
   "source": [
    "#The function that calculates the model\n",
    "def clean_fit_linear_mod(df_listings, response_col, drop_columns, dummy_na, test_size=.3, rand_state=42):\n",
    "    '''\n",
    "    INPUT\n",
    "    df_listings\n",
    "    \n",
    "    OUTPUT\n",
    "    X - A matrix holding all of the variables you want to consider when predicting the response\n",
    "    y - the corresponding response vector\n",
    "    \n",
    "    This function cleans df_listings using the following steps to produce X and y:\n",
    "    1. Drop all the rows with no price\n",
    "    2. Create X as all the columns that are not the price column\n",
    "    3. Create y as the price column\n",
    "    4. Drop the not needed columns from X using the drop_columns list\n",
    "    5. For each numeric variable in X, fill the column with the mean value of the column.\n",
    "    6. Create dummy columns for all the categorical variables in X, drop the original columns\n",
    "    '''\n",
    "    # Drop rows with missing price values\n",
    "    df_listings_predict_price = df_listings.dropna(subset=[response_col], axis=0)\n",
    "    y = df_listings[response_col]\n",
    "    \n",
    "    #Drop price column\n",
    "    df_listings_predict_price = df_listings_predict_price.drop([response_col], axis=1)\n",
    "    #Drop not needed columns\n",
    "    df_listings_predict_price = df_listings_predict_price.drop(drop_columns, axis=1)   \n",
    "    \n",
    "    # Fill numeric columns with the mean\n",
    "    num_vars = df_listings_predict_price.select_dtypes(include=['float', 'int']).columns\n",
    "    for col in num_vars:\n",
    "        df_listings_predict_price[col].fillna((df_listings_predict_price[col].mean()), inplace=True)\n",
    "        \n",
    "    # Dummy the categorical variables\n",
    "    cat_vars = df_listings_predict_price.select_dtypes(include=['object']).copy().columns\n",
    "    for var in  cat_vars:\n",
    "        df_listings_predict_price = pd.concat([df_listings_predict_price.drop(var, axis=1), pd.get_dummies(df_listings_predict_price[var], prefix=var, prefix_sep='_', drop_first=dummy_na)], axis=1)\n",
    "    \n",
    "    X = df_listings_predict_price\n",
    "    \n",
    "    X_train, X_test, y_train, y_test = train_test_split(X, y, test_size = test_size, random_state=rand_state) \n",
    "    \n",
    "    #Instantiate\n",
    "    lm_model = LinearRegression(normalize=True) \n",
    "    #Fit\n",
    "    lm_model.fit(X_train, y_train)\n",
    "        \n",
    "    #Predict and score the model\n",
    "    y_train_preds = lm_model.predict(X_train)\n",
    "    y_test_preds = lm_model.predict(X_test) \n",
    "    train_score = r2_score(y_train, y_train_preds)\n",
    "    test_score = r2_score(y_test, y_test_preds)\n",
    "\n",
    "    return test_score, train_score, lm_model, X_train, X_test, y_train, y_test, X, y\n"
   ]
  },
  {
   "cell_type": "markdown",
   "metadata": {},
   "source": [
    "Run the functions by preparing the drop columns lists"
   ]
  },
  {
   "cell_type": "code",
   "execution_count": 58,
   "metadata": {
    "scrolled": true
   },
   "outputs": [
    {
     "name": "stdout",
     "output_type": "stream",
     "text": [
      "The rsquared on the training data was 0.6279527836487613.  The rsquared on the test data was 0.6156268535871483.\n"
     ]
    },
    {
     "data": {
      "text/plain": [
       "146"
      ]
     },
     "execution_count": 58,
     "metadata": {},
     "output_type": "execute_result"
    }
   ],
   "source": [
    "proper_columns = list(set(df_listings_model.columns) - set(find_proper_columns.exclude_columns)  - set(exclude_mean)\n",
    "                    -set(['neighbourhood_group_cleansed','zipcode','host_location','smart_location'\n",
    "                         ,'host_neighbourhood','neighbourhood','host_verifications','calendar_updated'\n",
    "                         ]))\n",
    "\n",
    "drop_columns = list(set(df_listings_model.columns) - set(proper_columns))\n",
    "\n",
    "test_score, train_score, t.lm_model, X_train, X_test, y_train, y_test, X, y = clean_fit_linear_mod(df_listings_model, 'price', drop_columns, dummy_na=True)\n",
    "print(\"The rsquared on the training data was {}.  The rsquared on the test data was {}.\".format(train_score, test_score))\n",
    "len(X.columns)"
   ]
  },
  {
   "cell_type": "markdown",
   "metadata": {},
   "source": [
    "Run the provided cutoff function"
   ]
  },
  {
   "cell_type": "code",
   "execution_count": 59,
   "metadata": {
    "scrolled": false
   },
   "outputs": [
    {
     "data": {
      "image/png": "[encoded data removed]",
      "text/plain": [
       "<matplotlib.figure.Figure at 0x7f2926a83fd0>"
      ]
     },
     "metadata": {
      "needs_background": "light"
     },
     "output_type": "display_data"
    }
   ],
   "source": [
    "cutoffs = [5000, 3500, 2500, 1000, 100, 75, 50, 25, 10, 5, 2]\n",
    "\n",
    "#Run this cell to pass your X and y to the model for testing\n",
    "r2_scores_test, r2_scores_train, t.lm_model, X_train, X_test, y_train, y_test = t.find_optimal_lm_mod(X, y, cutoffs)"
   ]
  },
  {
   "cell_type": "markdown",
   "metadata": {},
   "source": [
    "Check the best results that this model can give"
   ]
  },
  {
   "cell_type": "code",
   "execution_count": 60,
   "metadata": {},
   "outputs": [
    {
     "name": "stdout",
     "output_type": "stream",
     "text": [
      "131\n",
      "0.614008596454\n",
      "0.626740827291\n"
     ]
    }
   ],
   "source": [
    "print(X_train.shape[1]) #Number of columns\n",
    "print(r2_scores_test[np.argmax(r2_scores_test)]) # The model we should implement test_r2\n",
    "print(r2_scores_train[np.argmax(r2_scores_test)]) # The model we should implement train_r2"
   ]
  },
  {
   "cell_type": "code",
   "execution_count": 61,
   "metadata": {
    "scrolled": true
   },
   "outputs": [
    {
     "data": {
      "text/html": [
       "<div>\n",
       "<style scoped>\n",
       "    .dataframe tbody tr th:only-of-type {\n",
       "        vertical-align: middle;\n",
       "    }\n",
       "\n",
       "    .dataframe tbody tr th {\n",
       "        vertical-align: top;\n",
       "    }\n",
       "\n",
       "    .dataframe thead th {\n",
       "        text-align: right;\n",
       "    }\n",
       "</style>\n",
       "<table border=\"1\" class=\"dataframe\">\n",
       "  <thead>\n",
       "    <tr style=\"text-align: right;\">\n",
       "      <th></th>\n",
       "      <th>est_int</th>\n",
       "      <th>coefs</th>\n",
       "      <th>abs_coefs</th>\n",
       "    </tr>\n",
       "  </thead>\n",
       "  <tbody>\n",
       "    <tr>\n",
       "      <th>2</th>\n",
       "      <td>host_total_listings_count</td>\n",
       "      <td>-1.299404e+12</td>\n",
       "      <td>1.299404e+12</td>\n",
       "    </tr>\n",
       "    <tr>\n",
       "      <th>1</th>\n",
       "      <td>host_listings_count</td>\n",
       "      <td>1.299404e+12</td>\n",
       "      <td>1.299404e+12</td>\n",
       "    </tr>\n",
       "    <tr>\n",
       "      <th>114</th>\n",
       "      <td>property_type_Boat</td>\n",
       "      <td>1.124299e+02</td>\n",
       "      <td>1.124299e+02</td>\n",
       "    </tr>\n",
       "    <tr>\n",
       "      <th>61</th>\n",
       "      <td>neighbourhood_cleansed_Industrial District</td>\n",
       "      <td>9.273483e+01</td>\n",
       "      <td>9.273483e+01</td>\n",
       "    </tr>\n",
       "    <tr>\n",
       "      <th>88</th>\n",
       "      <td>neighbourhood_cleansed_Pioneer Square</td>\n",
       "      <td>8.530955e+01</td>\n",
       "      <td>8.530955e+01</td>\n",
       "    </tr>\n",
       "    <tr>\n",
       "      <th>89</th>\n",
       "      <td>neighbourhood_cleansed_Portage Bay</td>\n",
       "      <td>8.441985e+01</td>\n",
       "      <td>8.441985e+01</td>\n",
       "    </tr>\n",
       "    <tr>\n",
       "      <th>98</th>\n",
       "      <td>neighbourhood_cleansed_Southeast Magnolia</td>\n",
       "      <td>8.221366e+01</td>\n",
       "      <td>8.221366e+01</td>\n",
       "    </tr>\n",
       "    <tr>\n",
       "      <th>87</th>\n",
       "      <td>neighbourhood_cleansed_Pike-Market</td>\n",
       "      <td>7.891436e+01</td>\n",
       "      <td>7.891436e+01</td>\n",
       "    </tr>\n",
       "    <tr>\n",
       "      <th>108</th>\n",
       "      <td>neighbourhood_cleansed_Westlake</td>\n",
       "      <td>7.099467e+01</td>\n",
       "      <td>7.099467e+01</td>\n",
       "    </tr>\n",
       "    <tr>\n",
       "      <th>124</th>\n",
       "      <td>room_type_Shared room</td>\n",
       "      <td>-6.292639e+01</td>\n",
       "      <td>6.292639e+01</td>\n",
       "    </tr>\n",
       "  </tbody>\n",
       "</table>\n",
       "</div>"
      ],
      "text/plain": [
       "                                        est_int         coefs     abs_coefs\n",
       "2                     host_total_listings_count -1.299404e+12  1.299404e+12\n",
       "1                           host_listings_count  1.299404e+12  1.299404e+12\n",
       "114                          property_type_Boat  1.124299e+02  1.124299e+02\n",
       "61   neighbourhood_cleansed_Industrial District  9.273483e+01  9.273483e+01\n",
       "88        neighbourhood_cleansed_Pioneer Square  8.530955e+01  8.530955e+01\n",
       "89           neighbourhood_cleansed_Portage Bay  8.441985e+01  8.441985e+01\n",
       "98    neighbourhood_cleansed_Southeast Magnolia  8.221366e+01  8.221366e+01\n",
       "87           neighbourhood_cleansed_Pike-Market  7.891436e+01  7.891436e+01\n",
       "108             neighbourhood_cleansed_Westlake  7.099467e+01  7.099467e+01\n",
       "124                       room_type_Shared room -6.292639e+01  6.292639e+01"
      ]
     },
     "execution_count": 61,
     "metadata": {},
     "output_type": "execute_result"
    }
   ],
   "source": [
    "#Run the coef function\n",
    "coef_df = t.coef_weights(t.lm_model.coef_, X_train)\n",
    "\n",
    "#A quick look at the top results\n",
    "coef_df.head(10)\n",
    "#coef_df.tail(10)"
   ]
  },
  {
   "cell_type": "markdown",
   "metadata": {},
   "source": [
    "Remove the really high and low coefficients and rerun the model"
   ]
  },
  {
   "cell_type": "code",
   "execution_count": 62,
   "metadata": {},
   "outputs": [
    {
     "name": "stdout",
     "output_type": "stream",
     "text": [
      "The rsquared on the training data was 0.6269146990549179.  The rsquared on the test data was 0.6165397947371682.\n"
     ]
    },
    {
     "data": {
      "text/plain": [
       "133"
      ]
     },
     "execution_count": 62,
     "metadata": {},
     "output_type": "execute_result"
    }
   ],
   "source": [
    "proper_columns = list(set(df_listings_model.columns) - set(find_proper_columns.exclude_columns)  - set(exclude_mean)\n",
    "                    -set(['neighbourhood_group_cleansed','zipcode','host_location','smart_location'\n",
    "                         ,'host_neighbourhood','neighbourhood','host_verifications','calendar_updated'\n",
    "                          ,'host_total_listings_count','host_listings_count'\n",
    "                          ,'maximum_nights','minimum_nights','city'\n",
    "                          ,'availability_365','availability_60','availability_30'\n",
    "                         ]))\n",
    "\n",
    "drop_columns = list(set(df_listings_model.columns) - set(proper_columns))\n",
    "\n",
    "test_score, train_score, t.lm_model, X_train, X_test, y_train, y_test, X, y = clean_fit_linear_mod(df_listings_model, 'price', drop_columns, dummy_na=True)\n",
    "print(\"The rsquared on the training data was {}.  The rsquared on the test data was {}.\".format(train_score, test_score))\n",
    "len(X.columns)"
   ]
  },
  {
   "cell_type": "markdown",
   "metadata": {},
   "source": [
    "We can see from the above that by removing the really high and really low variables the model reverted slightly better results\n",
    "\n",
    "Rerun the coefficients after the improved run"
   ]
  },
  {
   "cell_type": "code",
   "execution_count": 63,
   "metadata": {
    "scrolled": true
   },
   "outputs": [
    {
     "data": {
      "text/html": [
       "<div>\n",
       "<style scoped>\n",
       "    .dataframe tbody tr th:only-of-type {\n",
       "        vertical-align: middle;\n",
       "    }\n",
       "\n",
       "    .dataframe tbody tr th {\n",
       "        vertical-align: top;\n",
       "    }\n",
       "\n",
       "    .dataframe thead th {\n",
       "        text-align: right;\n",
       "    }\n",
       "</style>\n",
       "<table border=\"1\" class=\"dataframe\">\n",
       "  <thead>\n",
       "    <tr style=\"text-align: right;\">\n",
       "      <th></th>\n",
       "      <th>est_int</th>\n",
       "      <th>coefs</th>\n",
       "      <th>abs_coefs</th>\n",
       "    </tr>\n",
       "  </thead>\n",
       "  <tbody>\n",
       "    <tr>\n",
       "      <th>111</th>\n",
       "      <td>property_type_Boat</td>\n",
       "      <td>113.961453</td>\n",
       "      <td>113.961453</td>\n",
       "    </tr>\n",
       "    <tr>\n",
       "      <th>55</th>\n",
       "      <td>neighbourhood_cleansed_Industrial District</td>\n",
       "      <td>88.378330</td>\n",
       "      <td>88.378330</td>\n",
       "    </tr>\n",
       "    <tr>\n",
       "      <th>83</th>\n",
       "      <td>neighbourhood_cleansed_Pioneer Square</td>\n",
       "      <td>81.046332</td>\n",
       "      <td>81.046332</td>\n",
       "    </tr>\n",
       "    <tr>\n",
       "      <th>84</th>\n",
       "      <td>neighbourhood_cleansed_Portage Bay</td>\n",
       "      <td>79.645129</td>\n",
       "      <td>79.645129</td>\n",
       "    </tr>\n",
       "    <tr>\n",
       "      <th>96</th>\n",
       "      <td>neighbourhood_cleansed_Southeast Magnolia</td>\n",
       "      <td>78.742844</td>\n",
       "      <td>78.742844</td>\n",
       "    </tr>\n",
       "    <tr>\n",
       "      <th>81</th>\n",
       "      <td>neighbourhood_cleansed_Pike-Market</td>\n",
       "      <td>77.167540</td>\n",
       "      <td>77.167540</td>\n",
       "    </tr>\n",
       "    <tr>\n",
       "      <th>106</th>\n",
       "      <td>neighbourhood_cleansed_Westlake</td>\n",
       "      <td>66.628853</td>\n",
       "      <td>66.628853</td>\n",
       "    </tr>\n",
       "    <tr>\n",
       "      <th>82</th>\n",
       "      <td>neighbourhood_cleansed_Pinehurst</td>\n",
       "      <td>-62.422757</td>\n",
       "      <td>62.422757</td>\n",
       "    </tr>\n",
       "    <tr>\n",
       "      <th>126</th>\n",
       "      <td>room_type_Shared room</td>\n",
       "      <td>-61.343845</td>\n",
       "      <td>61.343845</td>\n",
       "    </tr>\n",
       "    <tr>\n",
       "      <th>117</th>\n",
       "      <td>property_type_Dorm</td>\n",
       "      <td>-56.633336</td>\n",
       "      <td>56.633336</td>\n",
       "    </tr>\n",
       "    <tr>\n",
       "      <th>104</th>\n",
       "      <td>neighbourhood_cleansed_West Queen Anne</td>\n",
       "      <td>56.225580</td>\n",
       "      <td>56.225580</td>\n",
       "    </tr>\n",
       "    <tr>\n",
       "      <th>114</th>\n",
       "      <td>property_type_Camper/RV</td>\n",
       "      <td>47.648050</td>\n",
       "      <td>47.648050</td>\n",
       "    </tr>\n",
       "    <tr>\n",
       "      <th>35</th>\n",
       "      <td>neighbourhood_cleansed_Central Business District</td>\n",
       "      <td>45.792338</td>\n",
       "      <td>45.792338</td>\n",
       "    </tr>\n",
       "    <tr>\n",
       "      <th>43</th>\n",
       "      <td>neighbourhood_cleansed_First Hill</td>\n",
       "      <td>44.954599</td>\n",
       "      <td>44.954599</td>\n",
       "    </tr>\n",
       "    <tr>\n",
       "      <th>27</th>\n",
       "      <td>neighbourhood_cleansed_Belltown</td>\n",
       "      <td>44.742604</td>\n",
       "      <td>44.742604</td>\n",
       "    </tr>\n",
       "    <tr>\n",
       "      <th>95</th>\n",
       "      <td>neighbourhood_cleansed_South Park</td>\n",
       "      <td>-44.518414</td>\n",
       "      <td>44.518414</td>\n",
       "    </tr>\n",
       "    <tr>\n",
       "      <th>88</th>\n",
       "      <td>neighbourhood_cleansed_Roosevelt</td>\n",
       "      <td>43.975395</td>\n",
       "      <td>43.975395</td>\n",
       "    </tr>\n",
       "    <tr>\n",
       "      <th>61</th>\n",
       "      <td>neighbourhood_cleansed_Lower Queen Anne</td>\n",
       "      <td>42.314290</td>\n",
       "      <td>42.314290</td>\n",
       "    </tr>\n",
       "    <tr>\n",
       "      <th>98</th>\n",
       "      <td>neighbourhood_cleansed_Sunset Hill</td>\n",
       "      <td>39.643141</td>\n",
       "      <td>39.643141</td>\n",
       "    </tr>\n",
       "    <tr>\n",
       "      <th>63</th>\n",
       "      <td>neighbourhood_cleansed_Madison Park</td>\n",
       "      <td>39.299611</td>\n",
       "      <td>39.299611</td>\n",
       "    </tr>\n",
       "    <tr>\n",
       "      <th>94</th>\n",
       "      <td>neighbourhood_cleansed_South Lake Union</td>\n",
       "      <td>38.834631</td>\n",
       "      <td>38.834631</td>\n",
       "    </tr>\n",
       "    <tr>\n",
       "      <th>121</th>\n",
       "      <td>property_type_Tent</td>\n",
       "      <td>-36.904792</td>\n",
       "      <td>36.904792</td>\n",
       "    </tr>\n",
       "    <tr>\n",
       "      <th>109</th>\n",
       "      <td>neighbourhood_cleansed_Yesler Terrace</td>\n",
       "      <td>35.155137</td>\n",
       "      <td>35.155137</td>\n",
       "    </tr>\n",
       "    <tr>\n",
       "      <th>40</th>\n",
       "      <td>neighbourhood_cleansed_Eastlake</td>\n",
       "      <td>34.982842</td>\n",
       "      <td>34.982842</td>\n",
       "    </tr>\n",
       "    <tr>\n",
       "      <th>54</th>\n",
       "      <td>neighbourhood_cleansed_Holly Park</td>\n",
       "      <td>34.974429</td>\n",
       "      <td>34.974429</td>\n",
       "    </tr>\n",
       "    <tr>\n",
       "      <th>32</th>\n",
       "      <td>neighbourhood_cleansed_Broadway</td>\n",
       "      <td>34.074589</td>\n",
       "      <td>34.074589</td>\n",
       "    </tr>\n",
       "    <tr>\n",
       "      <th>51</th>\n",
       "      <td>neighbourhood_cleansed_Harrison/Denny-Blaine</td>\n",
       "      <td>33.247441</td>\n",
       "      <td>33.247441</td>\n",
       "    </tr>\n",
       "    <tr>\n",
       "      <th>97</th>\n",
       "      <td>neighbourhood_cleansed_Stevens</td>\n",
       "      <td>30.855947</td>\n",
       "      <td>30.855947</td>\n",
       "    </tr>\n",
       "    <tr>\n",
       "      <th>64</th>\n",
       "      <td>neighbourhood_cleansed_Madrona</td>\n",
       "      <td>30.779288</td>\n",
       "      <td>30.779288</td>\n",
       "    </tr>\n",
       "    <tr>\n",
       "      <th>124</th>\n",
       "      <td>property_type_Yurt</td>\n",
       "      <td>30.054939</td>\n",
       "      <td>30.054939</td>\n",
       "    </tr>\n",
       "  </tbody>\n",
       "</table>\n",
       "</div>"
      ],
      "text/plain": [
       "                                              est_int       coefs   abs_coefs\n",
       "111                                property_type_Boat  113.961453  113.961453\n",
       "55         neighbourhood_cleansed_Industrial District   88.378330   88.378330\n",
       "83              neighbourhood_cleansed_Pioneer Square   81.046332   81.046332\n",
       "84                 neighbourhood_cleansed_Portage Bay   79.645129   79.645129\n",
       "96          neighbourhood_cleansed_Southeast Magnolia   78.742844   78.742844\n",
       "81                 neighbourhood_cleansed_Pike-Market   77.167540   77.167540\n",
       "106                   neighbourhood_cleansed_Westlake   66.628853   66.628853\n",
       "82                   neighbourhood_cleansed_Pinehurst  -62.422757   62.422757\n",
       "126                             room_type_Shared room  -61.343845   61.343845\n",
       "117                                property_type_Dorm  -56.633336   56.633336\n",
       "104            neighbourhood_cleansed_West Queen Anne   56.225580   56.225580\n",
       "114                           property_type_Camper/RV   47.648050   47.648050\n",
       "35   neighbourhood_cleansed_Central Business District   45.792338   45.792338\n",
       "43                  neighbourhood_cleansed_First Hill   44.954599   44.954599\n",
       "27                    neighbourhood_cleansed_Belltown   44.742604   44.742604\n",
       "95                  neighbourhood_cleansed_South Park  -44.518414   44.518414\n",
       "88                   neighbourhood_cleansed_Roosevelt   43.975395   43.975395\n",
       "61            neighbourhood_cleansed_Lower Queen Anne   42.314290   42.314290\n",
       "98                 neighbourhood_cleansed_Sunset Hill   39.643141   39.643141\n",
       "63                neighbourhood_cleansed_Madison Park   39.299611   39.299611\n",
       "94            neighbourhood_cleansed_South Lake Union   38.834631   38.834631\n",
       "121                                property_type_Tent  -36.904792   36.904792\n",
       "109             neighbourhood_cleansed_Yesler Terrace   35.155137   35.155137\n",
       "40                    neighbourhood_cleansed_Eastlake   34.982842   34.982842\n",
       "54                  neighbourhood_cleansed_Holly Park   34.974429   34.974429\n",
       "32                    neighbourhood_cleansed_Broadway   34.074589   34.074589\n",
       "51       neighbourhood_cleansed_Harrison/Denny-Blaine   33.247441   33.247441\n",
       "97                     neighbourhood_cleansed_Stevens   30.855947   30.855947\n",
       "64                     neighbourhood_cleansed_Madrona   30.779288   30.779288\n",
       "124                                property_type_Yurt   30.054939   30.054939"
      ]
     },
     "execution_count": 63,
     "metadata": {},
     "output_type": "execute_result"
    }
   ],
   "source": [
    "#Run the coef function\n",
    "coef_df = t.coef_weights(t.lm_model.coef_, X_train)\n",
    "\n",
    "#Check the higher variables and the lower variables\n",
    "coef_df.head(30)\n",
    "#coef_df.tail(30)"
   ]
  },
  {
   "cell_type": "code",
   "execution_count": 64,
   "metadata": {},
   "outputs": [
    {
     "name": "stdout",
     "output_type": "stream",
     "text": [
      "133\n",
      "0.614008596454\n",
      "0.626740827291\n"
     ]
    }
   ],
   "source": [
    "print(X_train.shape[1]) #Number of columns\n",
    "print(r2_scores_test[np.argmax(r2_scores_test)]) # The model we should implement test_r2\n",
    "print(r2_scores_train[np.argmax(r2_scores_test)]) # The model we should implement train_r2"
   ]
  },
  {
   "cell_type": "markdown",
   "metadata": {},
   "source": [
    "From the above code and steps, it seems that we are in position to build a linear model that predicts well enough the price per listing. \n",
    "\n",
    "There are many variables in the model (133), some of them more important than others. \n",
    "The r square is calculated as ~0.62, that is quite good.\n",
    "\n",
    "From the coefficient function we can see that the most important factors that affect the price of the appartments in Seattle are the neighbourhood, the type of the property and the room type."
   ]
  },
  {
   "cell_type": "code",
   "execution_count": null,
   "metadata": {},
   "outputs": [],
   "source": []
  }
 ],
 "metadata": {
  "kernelspec": {
   "display_name": "Python 3",
   "language": "python",
   "name": "python3"
  },
  "language_info": {
   "codemirror_mode": {
    "name": "ipython",
    "version": 3
   },
   "file_extension": ".py",
   "mimetype": "text/x-python",
   "name": "python",
   "nbconvert_exporter": "python",
   "pygments_lexer": "ipython3",
   "version": "3.6.3"
  }
 },
 "nbformat": 4,
 "nbformat_minor": 2
}
